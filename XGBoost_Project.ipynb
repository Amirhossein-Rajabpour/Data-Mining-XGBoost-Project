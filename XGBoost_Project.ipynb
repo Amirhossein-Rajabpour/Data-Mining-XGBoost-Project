{
  "cells": [
    {
      "cell_type": "markdown",
      "metadata": {
        "id": "5OF7XglqwXfD"
      },
      "source": [
        "Imports"
      ]
    },
    {
      "cell_type": "code",
      "execution_count": 1,
      "metadata": {
        "id": "GJDn4wgCwQC8"
      },
      "outputs": [],
      "source": [
        "import numpy as np\n",
        "import pandas as pd\n",
        "import matplotlib.pyplot as plt\n",
        "import seaborn as sns\n",
        "from more_itertools import locate\n",
        "from sklearn.preprocessing import MinMaxScaler, OneHotEncoder\n",
        "from xgboost import XGBClassifier\n",
        "from sklearn.model_selection import train_test_split\n",
        "from sklearn.metrics import auc, precision_recall_curve, confusion_matrix, accuracy_score, roc_auc_score\n",
        "from sklearn.model_selection import GridSearchCV\n",
        "import pickle"
      ]
    },
    {
      "cell_type": "code",
      "execution_count": 2,
      "metadata": {
        "colab": {
          "base_uri": "https://localhost:8080/"
        },
        "id": "Prs9tQybwcck",
        "outputId": "06c82340-996d-45cf-f34e-5a0d62c0fb1e"
      },
      "outputs": [
        {
          "output_type": "stream",
          "name": "stdout",
          "text": [
            "Mounted at /content/gdrive\n"
          ]
        }
      ],
      "source": [
        "from google.colab import drive\n",
        "\n",
        "drive.mount('/content/gdrive')\n",
        "base_path = '/content/gdrive/MyDrive/Uni./Data Mining/Project/'"
      ]
    },
    {
      "cell_type": "markdown",
      "metadata": {
        "id": "MCcWBt7KwZkG"
      },
      "source": [
        "## Getting the Data"
      ]
    },
    {
      "cell_type": "code",
      "execution_count": null,
      "metadata": {
        "id": "z48u86zKx8YQ"
      },
      "outputs": [],
      "source": [
        "df = pd.read_csv(base_path + 'diabetes.csv')"
      ]
    },
    {
      "cell_type": "code",
      "execution_count": null,
      "metadata": {
        "colab": {
          "base_uri": "https://localhost:8080/",
          "height": 557
        },
        "id": "4gu2j4pGyAEa",
        "outputId": "186aab83-e111-4d48-efe9-4f3f8a92314f"
      },
      "outputs": [
        {
          "data": {
            "text/html": [
              "\n",
              "  <div id=\"df-994b714b-e001-408c-b850-1594f4ab49b7\">\n",
              "    <div class=\"colab-df-container\">\n",
              "      <div>\n",
              "<style scoped>\n",
              "    .dataframe tbody tr th:only-of-type {\n",
              "        vertical-align: middle;\n",
              "    }\n",
              "\n",
              "    .dataframe tbody tr th {\n",
              "        vertical-align: top;\n",
              "    }\n",
              "\n",
              "    .dataframe thead th {\n",
              "        text-align: right;\n",
              "    }\n",
              "</style>\n",
              "<table border=\"1\" class=\"dataframe\">\n",
              "  <thead>\n",
              "    <tr style=\"text-align: right;\">\n",
              "      <th></th>\n",
              "      <th>Unnamed: 0</th>\n",
              "      <th>Diabetes_binary</th>\n",
              "      <th>HighBP</th>\n",
              "      <th>High Cholesterol</th>\n",
              "      <th>Cholesterol Check</th>\n",
              "      <th>BMI</th>\n",
              "      <th>Smoker</th>\n",
              "      <th>Stroke</th>\n",
              "      <th>HeartDiseaseorAttack</th>\n",
              "      <th>Physical Activity</th>\n",
              "      <th>...</th>\n",
              "      <th>Any Health Care</th>\n",
              "      <th>No Doctor because of Cost</th>\n",
              "      <th>General Health</th>\n",
              "      <th>Mental Health</th>\n",
              "      <th>Physical Health</th>\n",
              "      <th>Difficulty Walking</th>\n",
              "      <th>Sex</th>\n",
              "      <th>Age</th>\n",
              "      <th>Education</th>\n",
              "      <th>Income</th>\n",
              "    </tr>\n",
              "  </thead>\n",
              "  <tbody>\n",
              "    <tr>\n",
              "      <th>0</th>\n",
              "      <td>0</td>\n",
              "      <td>0.0</td>\n",
              "      <td>1.0</td>\n",
              "      <td>0.0</td>\n",
              "      <td>1.0</td>\n",
              "      <td>26.0</td>\n",
              "      <td>0.0</td>\n",
              "      <td>0.0</td>\n",
              "      <td>0.0</td>\n",
              "      <td>1.0</td>\n",
              "      <td>...</td>\n",
              "      <td>1.0</td>\n",
              "      <td>0.0</td>\n",
              "      <td>Medium</td>\n",
              "      <td>5.0</td>\n",
              "      <td>30.0</td>\n",
              "      <td>0.0</td>\n",
              "      <td>male</td>\n",
              "      <td>4.0</td>\n",
              "      <td>Cat6</td>\n",
              "      <td>Cat8</td>\n",
              "    </tr>\n",
              "    <tr>\n",
              "      <th>1</th>\n",
              "      <td>1</td>\n",
              "      <td>0.0</td>\n",
              "      <td>1.0</td>\n",
              "      <td>1.0</td>\n",
              "      <td>1.0</td>\n",
              "      <td>26.0</td>\n",
              "      <td>1.0</td>\n",
              "      <td>1.0</td>\n",
              "      <td>0.0</td>\n",
              "      <td>0.0</td>\n",
              "      <td>...</td>\n",
              "      <td>1.0</td>\n",
              "      <td>0.0</td>\n",
              "      <td>Medium</td>\n",
              "      <td>0.0</td>\n",
              "      <td>0.0</td>\n",
              "      <td>0.0</td>\n",
              "      <td>male</td>\n",
              "      <td>12.0</td>\n",
              "      <td>Cat6</td>\n",
              "      <td>Cat8</td>\n",
              "    </tr>\n",
              "    <tr>\n",
              "      <th>2</th>\n",
              "      <td>2</td>\n",
              "      <td>0.0</td>\n",
              "      <td>0.0</td>\n",
              "      <td>0.0</td>\n",
              "      <td>1.0</td>\n",
              "      <td>26.0</td>\n",
              "      <td>0.0</td>\n",
              "      <td>0.0</td>\n",
              "      <td>0.0</td>\n",
              "      <td>1.0</td>\n",
              "      <td>...</td>\n",
              "      <td>1.0</td>\n",
              "      <td>0.0</td>\n",
              "      <td>High</td>\n",
              "      <td>0.0</td>\n",
              "      <td>10.0</td>\n",
              "      <td>0.0</td>\n",
              "      <td>male</td>\n",
              "      <td>13.0</td>\n",
              "      <td>Cat6</td>\n",
              "      <td>Cat8</td>\n",
              "    </tr>\n",
              "    <tr>\n",
              "      <th>3</th>\n",
              "      <td>3</td>\n",
              "      <td>0.0</td>\n",
              "      <td>1.0</td>\n",
              "      <td>1.0</td>\n",
              "      <td>1.0</td>\n",
              "      <td>28.0</td>\n",
              "      <td>1.0</td>\n",
              "      <td>0.0</td>\n",
              "      <td>0.0</td>\n",
              "      <td>1.0</td>\n",
              "      <td>...</td>\n",
              "      <td>1.0</td>\n",
              "      <td>0.0</td>\n",
              "      <td>Medium</td>\n",
              "      <td>0.0</td>\n",
              "      <td>3.0</td>\n",
              "      <td>0.0</td>\n",
              "      <td>male</td>\n",
              "      <td>11.0</td>\n",
              "      <td>Cat6</td>\n",
              "      <td>Cat8</td>\n",
              "    </tr>\n",
              "    <tr>\n",
              "      <th>4</th>\n",
              "      <td>4</td>\n",
              "      <td>0.0</td>\n",
              "      <td>0.0</td>\n",
              "      <td>0.0</td>\n",
              "      <td>1.0</td>\n",
              "      <td>29.0</td>\n",
              "      <td>1.0</td>\n",
              "      <td>0.0</td>\n",
              "      <td>0.0</td>\n",
              "      <td>1.0</td>\n",
              "      <td>...</td>\n",
              "      <td>1.0</td>\n",
              "      <td>0.0</td>\n",
              "      <td>Good</td>\n",
              "      <td>0.0</td>\n",
              "      <td>0.0</td>\n",
              "      <td>0.0</td>\n",
              "      <td>female</td>\n",
              "      <td>8.0</td>\n",
              "      <td>Cat5</td>\n",
              "      <td>Cat8</td>\n",
              "    </tr>\n",
              "    <tr>\n",
              "      <th>...</th>\n",
              "      <td>...</td>\n",
              "      <td>...</td>\n",
              "      <td>...</td>\n",
              "      <td>...</td>\n",
              "      <td>...</td>\n",
              "      <td>...</td>\n",
              "      <td>...</td>\n",
              "      <td>...</td>\n",
              "      <td>...</td>\n",
              "      <td>...</td>\n",
              "      <td>...</td>\n",
              "      <td>...</td>\n",
              "      <td>...</td>\n",
              "      <td>...</td>\n",
              "      <td>...</td>\n",
              "      <td>...</td>\n",
              "      <td>...</td>\n",
              "      <td>...</td>\n",
              "      <td>...</td>\n",
              "      <td>...</td>\n",
              "      <td>...</td>\n",
              "    </tr>\n",
              "    <tr>\n",
              "      <th>70687</th>\n",
              "      <td>70687</td>\n",
              "      <td>1.0</td>\n",
              "      <td>0.0</td>\n",
              "      <td>1.0</td>\n",
              "      <td>1.0</td>\n",
              "      <td>37.0</td>\n",
              "      <td>0.0</td>\n",
              "      <td>0.0</td>\n",
              "      <td>0.0</td>\n",
              "      <td>0.0</td>\n",
              "      <td>...</td>\n",
              "      <td>1.0</td>\n",
              "      <td>0.0</td>\n",
              "      <td>Low</td>\n",
              "      <td>0.0</td>\n",
              "      <td>0.0</td>\n",
              "      <td>0.0</td>\n",
              "      <td>female</td>\n",
              "      <td>6.0</td>\n",
              "      <td>Cat4</td>\n",
              "      <td>Cat1</td>\n",
              "    </tr>\n",
              "    <tr>\n",
              "      <th>70688</th>\n",
              "      <td>70688</td>\n",
              "      <td>1.0</td>\n",
              "      <td>0.0</td>\n",
              "      <td>1.0</td>\n",
              "      <td>1.0</td>\n",
              "      <td>29.0</td>\n",
              "      <td>1.0</td>\n",
              "      <td>0.0</td>\n",
              "      <td>1.0</td>\n",
              "      <td>0.0</td>\n",
              "      <td>...</td>\n",
              "      <td>1.0</td>\n",
              "      <td>0.0</td>\n",
              "      <td>Good</td>\n",
              "      <td>0.0</td>\n",
              "      <td>0.0</td>\n",
              "      <td>1.0</td>\n",
              "      <td>male</td>\n",
              "      <td>10.0</td>\n",
              "      <td>Cat3</td>\n",
              "      <td>Cat6</td>\n",
              "    </tr>\n",
              "    <tr>\n",
              "      <th>70689</th>\n",
              "      <td>70689</td>\n",
              "      <td>1.0</td>\n",
              "      <td>1.0</td>\n",
              "      <td>1.0</td>\n",
              "      <td>1.0</td>\n",
              "      <td>25.0</td>\n",
              "      <td>0.0</td>\n",
              "      <td>0.0</td>\n",
              "      <td>1.0</td>\n",
              "      <td>0.0</td>\n",
              "      <td>...</td>\n",
              "      <td>1.0</td>\n",
              "      <td>0.0</td>\n",
              "      <td>Very Low</td>\n",
              "      <td>15.0</td>\n",
              "      <td>0.0</td>\n",
              "      <td>1.0</td>\n",
              "      <td>female</td>\n",
              "      <td>13.0</td>\n",
              "      <td>Cat6</td>\n",
              "      <td>Cat4</td>\n",
              "    </tr>\n",
              "    <tr>\n",
              "      <th>70690</th>\n",
              "      <td>70690</td>\n",
              "      <td>1.0</td>\n",
              "      <td>1.0</td>\n",
              "      <td>1.0</td>\n",
              "      <td>1.0</td>\n",
              "      <td>18.0</td>\n",
              "      <td>0.0</td>\n",
              "      <td>0.0</td>\n",
              "      <td>0.0</td>\n",
              "      <td>0.0</td>\n",
              "      <td>...</td>\n",
              "      <td>1.0</td>\n",
              "      <td>0.0</td>\n",
              "      <td>Low</td>\n",
              "      <td>0.0</td>\n",
              "      <td>0.0</td>\n",
              "      <td>1.0</td>\n",
              "      <td>female</td>\n",
              "      <td>11.0</td>\n",
              "      <td>Cat2</td>\n",
              "      <td>Cat4</td>\n",
              "    </tr>\n",
              "    <tr>\n",
              "      <th>70691</th>\n",
              "      <td>70691</td>\n",
              "      <td>1.0</td>\n",
              "      <td>1.0</td>\n",
              "      <td>1.0</td>\n",
              "      <td>1.0</td>\n",
              "      <td>25.0</td>\n",
              "      <td>0.0</td>\n",
              "      <td>0.0</td>\n",
              "      <td>1.0</td>\n",
              "      <td>1.0</td>\n",
              "      <td>...</td>\n",
              "      <td>1.0</td>\n",
              "      <td>0.0</td>\n",
              "      <td>Good</td>\n",
              "      <td>0.0</td>\n",
              "      <td>0.0</td>\n",
              "      <td>0.0</td>\n",
              "      <td>female</td>\n",
              "      <td>9.0</td>\n",
              "      <td>Cat6</td>\n",
              "      <td>Cat2</td>\n",
              "    </tr>\n",
              "  </tbody>\n",
              "</table>\n",
              "<p>70692 rows × 23 columns</p>\n",
              "</div>\n",
              "      <button class=\"colab-df-convert\" onclick=\"convertToInteractive('df-994b714b-e001-408c-b850-1594f4ab49b7')\"\n",
              "              title=\"Convert this dataframe to an interactive table.\"\n",
              "              style=\"display:none;\">\n",
              "        \n",
              "  <svg xmlns=\"http://www.w3.org/2000/svg\" height=\"24px\"viewBox=\"0 0 24 24\"\n",
              "       width=\"24px\">\n",
              "    <path d=\"M0 0h24v24H0V0z\" fill=\"none\"/>\n",
              "    <path d=\"M18.56 5.44l.94 2.06.94-2.06 2.06-.94-2.06-.94-.94-2.06-.94 2.06-2.06.94zm-11 1L8.5 8.5l.94-2.06 2.06-.94-2.06-.94L8.5 2.5l-.94 2.06-2.06.94zm10 10l.94 2.06.94-2.06 2.06-.94-2.06-.94-.94-2.06-.94 2.06-2.06.94z\"/><path d=\"M17.41 7.96l-1.37-1.37c-.4-.4-.92-.59-1.43-.59-.52 0-1.04.2-1.43.59L10.3 9.45l-7.72 7.72c-.78.78-.78 2.05 0 2.83L4 21.41c.39.39.9.59 1.41.59.51 0 1.02-.2 1.41-.59l7.78-7.78 2.81-2.81c.8-.78.8-2.07 0-2.86zM5.41 20L4 18.59l7.72-7.72 1.47 1.35L5.41 20z\"/>\n",
              "  </svg>\n",
              "      </button>\n",
              "      \n",
              "  <style>\n",
              "    .colab-df-container {\n",
              "      display:flex;\n",
              "      flex-wrap:wrap;\n",
              "      gap: 12px;\n",
              "    }\n",
              "\n",
              "    .colab-df-convert {\n",
              "      background-color: #E8F0FE;\n",
              "      border: none;\n",
              "      border-radius: 50%;\n",
              "      cursor: pointer;\n",
              "      display: none;\n",
              "      fill: #1967D2;\n",
              "      height: 32px;\n",
              "      padding: 0 0 0 0;\n",
              "      width: 32px;\n",
              "    }\n",
              "\n",
              "    .colab-df-convert:hover {\n",
              "      background-color: #E2EBFA;\n",
              "      box-shadow: 0px 1px 2px rgba(60, 64, 67, 0.3), 0px 1px 3px 1px rgba(60, 64, 67, 0.15);\n",
              "      fill: #174EA6;\n",
              "    }\n",
              "\n",
              "    [theme=dark] .colab-df-convert {\n",
              "      background-color: #3B4455;\n",
              "      fill: #D2E3FC;\n",
              "    }\n",
              "\n",
              "    [theme=dark] .colab-df-convert:hover {\n",
              "      background-color: #434B5C;\n",
              "      box-shadow: 0px 1px 3px 1px rgba(0, 0, 0, 0.15);\n",
              "      filter: drop-shadow(0px 1px 2px rgba(0, 0, 0, 0.3));\n",
              "      fill: #FFFFFF;\n",
              "    }\n",
              "  </style>\n",
              "\n",
              "      <script>\n",
              "        const buttonEl =\n",
              "          document.querySelector('#df-994b714b-e001-408c-b850-1594f4ab49b7 button.colab-df-convert');\n",
              "        buttonEl.style.display =\n",
              "          google.colab.kernel.accessAllowed ? 'block' : 'none';\n",
              "\n",
              "        async function convertToInteractive(key) {\n",
              "          const element = document.querySelector('#df-994b714b-e001-408c-b850-1594f4ab49b7');\n",
              "          const dataTable =\n",
              "            await google.colab.kernel.invokeFunction('convertToInteractive',\n",
              "                                                     [key], {});\n",
              "          if (!dataTable) return;\n",
              "\n",
              "          const docLinkHtml = 'Like what you see? Visit the ' +\n",
              "            '<a target=\"_blank\" href=https://colab.research.google.com/notebooks/data_table.ipynb>data table notebook</a>'\n",
              "            + ' to learn more about interactive tables.';\n",
              "          element.innerHTML = '';\n",
              "          dataTable['output_type'] = 'display_data';\n",
              "          await google.colab.output.renderOutput(dataTable, element);\n",
              "          const docLink = document.createElement('div');\n",
              "          docLink.innerHTML = docLinkHtml;\n",
              "          element.appendChild(docLink);\n",
              "        }\n",
              "      </script>\n",
              "    </div>\n",
              "  </div>\n",
              "  "
            ],
            "text/plain": [
              "       Unnamed: 0  Diabetes_binary  HighBP  High Cholesterol  \\\n",
              "0               0              0.0     1.0               0.0   \n",
              "1               1              0.0     1.0               1.0   \n",
              "2               2              0.0     0.0               0.0   \n",
              "3               3              0.0     1.0               1.0   \n",
              "4               4              0.0     0.0               0.0   \n",
              "...           ...              ...     ...               ...   \n",
              "70687       70687              1.0     0.0               1.0   \n",
              "70688       70688              1.0     0.0               1.0   \n",
              "70689       70689              1.0     1.0               1.0   \n",
              "70690       70690              1.0     1.0               1.0   \n",
              "70691       70691              1.0     1.0               1.0   \n",
              "\n",
              "       Cholesterol Check   BMI  Smoker  Stroke  HeartDiseaseorAttack  \\\n",
              "0                    1.0  26.0     0.0     0.0                   0.0   \n",
              "1                    1.0  26.0     1.0     1.0                   0.0   \n",
              "2                    1.0  26.0     0.0     0.0                   0.0   \n",
              "3                    1.0  28.0     1.0     0.0                   0.0   \n",
              "4                    1.0  29.0     1.0     0.0                   0.0   \n",
              "...                  ...   ...     ...     ...                   ...   \n",
              "70687                1.0  37.0     0.0     0.0                   0.0   \n",
              "70688                1.0  29.0     1.0     0.0                   1.0   \n",
              "70689                1.0  25.0     0.0     0.0                   1.0   \n",
              "70690                1.0  18.0     0.0     0.0                   0.0   \n",
              "70691                1.0  25.0     0.0     0.0                   1.0   \n",
              "\n",
              "       Physical Activity  ...  Any Health Care  No Doctor because of Cost  \\\n",
              "0                    1.0  ...              1.0                        0.0   \n",
              "1                    0.0  ...              1.0                        0.0   \n",
              "2                    1.0  ...              1.0                        0.0   \n",
              "3                    1.0  ...              1.0                        0.0   \n",
              "4                    1.0  ...              1.0                        0.0   \n",
              "...                  ...  ...              ...                        ...   \n",
              "70687                0.0  ...              1.0                        0.0   \n",
              "70688                0.0  ...              1.0                        0.0   \n",
              "70689                0.0  ...              1.0                        0.0   \n",
              "70690                0.0  ...              1.0                        0.0   \n",
              "70691                1.0  ...              1.0                        0.0   \n",
              "\n",
              "       General Health  Mental Health  Physical Health Difficulty Walking  \\\n",
              "0              Medium            5.0             30.0                0.0   \n",
              "1              Medium            0.0              0.0                0.0   \n",
              "2                High            0.0             10.0                0.0   \n",
              "3              Medium            0.0              3.0                0.0   \n",
              "4                Good            0.0              0.0                0.0   \n",
              "...               ...            ...              ...                ...   \n",
              "70687             Low            0.0              0.0                0.0   \n",
              "70688            Good            0.0              0.0                1.0   \n",
              "70689        Very Low           15.0              0.0                1.0   \n",
              "70690             Low            0.0              0.0                1.0   \n",
              "70691            Good            0.0              0.0                0.0   \n",
              "\n",
              "          Sex   Age  Education Income  \n",
              "0        male   4.0       Cat6   Cat8  \n",
              "1        male  12.0       Cat6   Cat8  \n",
              "2        male  13.0       Cat6   Cat8  \n",
              "3        male  11.0       Cat6   Cat8  \n",
              "4      female   8.0       Cat5   Cat8  \n",
              "...       ...   ...        ...    ...  \n",
              "70687  female   6.0       Cat4   Cat1  \n",
              "70688    male  10.0       Cat3   Cat6  \n",
              "70689  female  13.0       Cat6   Cat4  \n",
              "70690  female  11.0       Cat2   Cat4  \n",
              "70691  female   9.0       Cat6   Cat2  \n",
              "\n",
              "[70692 rows x 23 columns]"
            ]
          },
          "execution_count": 170,
          "metadata": {},
          "output_type": "execute_result"
        }
      ],
      "source": [
        "df"
      ]
    },
    {
      "cell_type": "markdown",
      "metadata": {
        "id": "Jc70YwH9wdpf"
      },
      "source": [
        "## Preprocessing"
      ]
    },
    {
      "cell_type": "code",
      "execution_count": null,
      "metadata": {
        "colab": {
          "base_uri": "https://localhost:8080/"
        },
        "id": "hMHW9TigwfpO",
        "outputId": "6e2942a3-e0e4-41bf-9905-4fc9be3f4968"
      },
      "outputs": [
        {
          "data": {
            "text/plain": [
              "Index(['Unnamed: 0', 'Diabetes_binary', 'HighBP', 'High Cholesterol',\n",
              "       'Cholesterol Check', 'BMI', 'Smoker', 'Stroke', 'HeartDiseaseorAttack',\n",
              "       'Physical Activity', 'Fruits', 'Veggies', 'Heavy Alcohol Consumption',\n",
              "       'Any Health Care', 'No Doctor because of Cost', 'General Health',\n",
              "       'Mental Health', 'Physical Health', 'Difficulty Walking', 'Sex', 'Age',\n",
              "       'Education', 'Income'],\n",
              "      dtype='object')"
            ]
          },
          "execution_count": 171,
          "metadata": {},
          "output_type": "execute_result"
        }
      ],
      "source": [
        "df.columns"
      ]
    },
    {
      "cell_type": "markdown",
      "metadata": {
        "id": "LUW7P-O4vxF4"
      },
      "source": [
        "Delete unnecessary column `Unnamed: 0`"
      ]
    },
    {
      "cell_type": "code",
      "execution_count": null,
      "metadata": {
        "colab": {
          "base_uri": "https://localhost:8080/",
          "height": 557
        },
        "id": "57Af7ZPCqRU0",
        "outputId": "95848ea8-d69f-489e-f070-e54c4d85ed67"
      },
      "outputs": [
        {
          "data": {
            "text/html": [
              "\n",
              "  <div id=\"df-b271c6af-7d16-4bc5-8eaa-76ca042e6f1e\">\n",
              "    <div class=\"colab-df-container\">\n",
              "      <div>\n",
              "<style scoped>\n",
              "    .dataframe tbody tr th:only-of-type {\n",
              "        vertical-align: middle;\n",
              "    }\n",
              "\n",
              "    .dataframe tbody tr th {\n",
              "        vertical-align: top;\n",
              "    }\n",
              "\n",
              "    .dataframe thead th {\n",
              "        text-align: right;\n",
              "    }\n",
              "</style>\n",
              "<table border=\"1\" class=\"dataframe\">\n",
              "  <thead>\n",
              "    <tr style=\"text-align: right;\">\n",
              "      <th></th>\n",
              "      <th>Diabetes_binary</th>\n",
              "      <th>HighBP</th>\n",
              "      <th>High Cholesterol</th>\n",
              "      <th>Cholesterol Check</th>\n",
              "      <th>BMI</th>\n",
              "      <th>Smoker</th>\n",
              "      <th>Stroke</th>\n",
              "      <th>HeartDiseaseorAttack</th>\n",
              "      <th>Physical Activity</th>\n",
              "      <th>Fruits</th>\n",
              "      <th>...</th>\n",
              "      <th>Any Health Care</th>\n",
              "      <th>No Doctor because of Cost</th>\n",
              "      <th>General Health</th>\n",
              "      <th>Mental Health</th>\n",
              "      <th>Physical Health</th>\n",
              "      <th>Difficulty Walking</th>\n",
              "      <th>Sex</th>\n",
              "      <th>Age</th>\n",
              "      <th>Education</th>\n",
              "      <th>Income</th>\n",
              "    </tr>\n",
              "  </thead>\n",
              "  <tbody>\n",
              "    <tr>\n",
              "      <th>0</th>\n",
              "      <td>0.0</td>\n",
              "      <td>1.0</td>\n",
              "      <td>0.0</td>\n",
              "      <td>1.0</td>\n",
              "      <td>26.0</td>\n",
              "      <td>0.0</td>\n",
              "      <td>0.0</td>\n",
              "      <td>0.0</td>\n",
              "      <td>1.0</td>\n",
              "      <td>0.0</td>\n",
              "      <td>...</td>\n",
              "      <td>1.0</td>\n",
              "      <td>0.0</td>\n",
              "      <td>Medium</td>\n",
              "      <td>5.0</td>\n",
              "      <td>30.0</td>\n",
              "      <td>0.0</td>\n",
              "      <td>male</td>\n",
              "      <td>4.0</td>\n",
              "      <td>Cat6</td>\n",
              "      <td>Cat8</td>\n",
              "    </tr>\n",
              "    <tr>\n",
              "      <th>1</th>\n",
              "      <td>0.0</td>\n",
              "      <td>1.0</td>\n",
              "      <td>1.0</td>\n",
              "      <td>1.0</td>\n",
              "      <td>26.0</td>\n",
              "      <td>1.0</td>\n",
              "      <td>1.0</td>\n",
              "      <td>0.0</td>\n",
              "      <td>0.0</td>\n",
              "      <td>1.0</td>\n",
              "      <td>...</td>\n",
              "      <td>1.0</td>\n",
              "      <td>0.0</td>\n",
              "      <td>Medium</td>\n",
              "      <td>0.0</td>\n",
              "      <td>0.0</td>\n",
              "      <td>0.0</td>\n",
              "      <td>male</td>\n",
              "      <td>12.0</td>\n",
              "      <td>Cat6</td>\n",
              "      <td>Cat8</td>\n",
              "    </tr>\n",
              "    <tr>\n",
              "      <th>2</th>\n",
              "      <td>0.0</td>\n",
              "      <td>0.0</td>\n",
              "      <td>0.0</td>\n",
              "      <td>1.0</td>\n",
              "      <td>26.0</td>\n",
              "      <td>0.0</td>\n",
              "      <td>0.0</td>\n",
              "      <td>0.0</td>\n",
              "      <td>1.0</td>\n",
              "      <td>1.0</td>\n",
              "      <td>...</td>\n",
              "      <td>1.0</td>\n",
              "      <td>0.0</td>\n",
              "      <td>High</td>\n",
              "      <td>0.0</td>\n",
              "      <td>10.0</td>\n",
              "      <td>0.0</td>\n",
              "      <td>male</td>\n",
              "      <td>13.0</td>\n",
              "      <td>Cat6</td>\n",
              "      <td>Cat8</td>\n",
              "    </tr>\n",
              "    <tr>\n",
              "      <th>3</th>\n",
              "      <td>0.0</td>\n",
              "      <td>1.0</td>\n",
              "      <td>1.0</td>\n",
              "      <td>1.0</td>\n",
              "      <td>28.0</td>\n",
              "      <td>1.0</td>\n",
              "      <td>0.0</td>\n",
              "      <td>0.0</td>\n",
              "      <td>1.0</td>\n",
              "      <td>1.0</td>\n",
              "      <td>...</td>\n",
              "      <td>1.0</td>\n",
              "      <td>0.0</td>\n",
              "      <td>Medium</td>\n",
              "      <td>0.0</td>\n",
              "      <td>3.0</td>\n",
              "      <td>0.0</td>\n",
              "      <td>male</td>\n",
              "      <td>11.0</td>\n",
              "      <td>Cat6</td>\n",
              "      <td>Cat8</td>\n",
              "    </tr>\n",
              "    <tr>\n",
              "      <th>4</th>\n",
              "      <td>0.0</td>\n",
              "      <td>0.0</td>\n",
              "      <td>0.0</td>\n",
              "      <td>1.0</td>\n",
              "      <td>29.0</td>\n",
              "      <td>1.0</td>\n",
              "      <td>0.0</td>\n",
              "      <td>0.0</td>\n",
              "      <td>1.0</td>\n",
              "      <td>1.0</td>\n",
              "      <td>...</td>\n",
              "      <td>1.0</td>\n",
              "      <td>0.0</td>\n",
              "      <td>Good</td>\n",
              "      <td>0.0</td>\n",
              "      <td>0.0</td>\n",
              "      <td>0.0</td>\n",
              "      <td>female</td>\n",
              "      <td>8.0</td>\n",
              "      <td>Cat5</td>\n",
              "      <td>Cat8</td>\n",
              "    </tr>\n",
              "    <tr>\n",
              "      <th>...</th>\n",
              "      <td>...</td>\n",
              "      <td>...</td>\n",
              "      <td>...</td>\n",
              "      <td>...</td>\n",
              "      <td>...</td>\n",
              "      <td>...</td>\n",
              "      <td>...</td>\n",
              "      <td>...</td>\n",
              "      <td>...</td>\n",
              "      <td>...</td>\n",
              "      <td>...</td>\n",
              "      <td>...</td>\n",
              "      <td>...</td>\n",
              "      <td>...</td>\n",
              "      <td>...</td>\n",
              "      <td>...</td>\n",
              "      <td>...</td>\n",
              "      <td>...</td>\n",
              "      <td>...</td>\n",
              "      <td>...</td>\n",
              "      <td>...</td>\n",
              "    </tr>\n",
              "    <tr>\n",
              "      <th>70687</th>\n",
              "      <td>1.0</td>\n",
              "      <td>0.0</td>\n",
              "      <td>1.0</td>\n",
              "      <td>1.0</td>\n",
              "      <td>37.0</td>\n",
              "      <td>0.0</td>\n",
              "      <td>0.0</td>\n",
              "      <td>0.0</td>\n",
              "      <td>0.0</td>\n",
              "      <td>0.0</td>\n",
              "      <td>...</td>\n",
              "      <td>1.0</td>\n",
              "      <td>0.0</td>\n",
              "      <td>Low</td>\n",
              "      <td>0.0</td>\n",
              "      <td>0.0</td>\n",
              "      <td>0.0</td>\n",
              "      <td>female</td>\n",
              "      <td>6.0</td>\n",
              "      <td>Cat4</td>\n",
              "      <td>Cat1</td>\n",
              "    </tr>\n",
              "    <tr>\n",
              "      <th>70688</th>\n",
              "      <td>1.0</td>\n",
              "      <td>0.0</td>\n",
              "      <td>1.0</td>\n",
              "      <td>1.0</td>\n",
              "      <td>29.0</td>\n",
              "      <td>1.0</td>\n",
              "      <td>0.0</td>\n",
              "      <td>1.0</td>\n",
              "      <td>0.0</td>\n",
              "      <td>1.0</td>\n",
              "      <td>...</td>\n",
              "      <td>1.0</td>\n",
              "      <td>0.0</td>\n",
              "      <td>Good</td>\n",
              "      <td>0.0</td>\n",
              "      <td>0.0</td>\n",
              "      <td>1.0</td>\n",
              "      <td>male</td>\n",
              "      <td>10.0</td>\n",
              "      <td>Cat3</td>\n",
              "      <td>Cat6</td>\n",
              "    </tr>\n",
              "    <tr>\n",
              "      <th>70689</th>\n",
              "      <td>1.0</td>\n",
              "      <td>1.0</td>\n",
              "      <td>1.0</td>\n",
              "      <td>1.0</td>\n",
              "      <td>25.0</td>\n",
              "      <td>0.0</td>\n",
              "      <td>0.0</td>\n",
              "      <td>1.0</td>\n",
              "      <td>0.0</td>\n",
              "      <td>1.0</td>\n",
              "      <td>...</td>\n",
              "      <td>1.0</td>\n",
              "      <td>0.0</td>\n",
              "      <td>Very Low</td>\n",
              "      <td>15.0</td>\n",
              "      <td>0.0</td>\n",
              "      <td>1.0</td>\n",
              "      <td>female</td>\n",
              "      <td>13.0</td>\n",
              "      <td>Cat6</td>\n",
              "      <td>Cat4</td>\n",
              "    </tr>\n",
              "    <tr>\n",
              "      <th>70690</th>\n",
              "      <td>1.0</td>\n",
              "      <td>1.0</td>\n",
              "      <td>1.0</td>\n",
              "      <td>1.0</td>\n",
              "      <td>18.0</td>\n",
              "      <td>0.0</td>\n",
              "      <td>0.0</td>\n",
              "      <td>0.0</td>\n",
              "      <td>0.0</td>\n",
              "      <td>0.0</td>\n",
              "      <td>...</td>\n",
              "      <td>1.0</td>\n",
              "      <td>0.0</td>\n",
              "      <td>Low</td>\n",
              "      <td>0.0</td>\n",
              "      <td>0.0</td>\n",
              "      <td>1.0</td>\n",
              "      <td>female</td>\n",
              "      <td>11.0</td>\n",
              "      <td>Cat2</td>\n",
              "      <td>Cat4</td>\n",
              "    </tr>\n",
              "    <tr>\n",
              "      <th>70691</th>\n",
              "      <td>1.0</td>\n",
              "      <td>1.0</td>\n",
              "      <td>1.0</td>\n",
              "      <td>1.0</td>\n",
              "      <td>25.0</td>\n",
              "      <td>0.0</td>\n",
              "      <td>0.0</td>\n",
              "      <td>1.0</td>\n",
              "      <td>1.0</td>\n",
              "      <td>1.0</td>\n",
              "      <td>...</td>\n",
              "      <td>1.0</td>\n",
              "      <td>0.0</td>\n",
              "      <td>Good</td>\n",
              "      <td>0.0</td>\n",
              "      <td>0.0</td>\n",
              "      <td>0.0</td>\n",
              "      <td>female</td>\n",
              "      <td>9.0</td>\n",
              "      <td>Cat6</td>\n",
              "      <td>Cat2</td>\n",
              "    </tr>\n",
              "  </tbody>\n",
              "</table>\n",
              "<p>70692 rows × 22 columns</p>\n",
              "</div>\n",
              "      <button class=\"colab-df-convert\" onclick=\"convertToInteractive('df-b271c6af-7d16-4bc5-8eaa-76ca042e6f1e')\"\n",
              "              title=\"Convert this dataframe to an interactive table.\"\n",
              "              style=\"display:none;\">\n",
              "        \n",
              "  <svg xmlns=\"http://www.w3.org/2000/svg\" height=\"24px\"viewBox=\"0 0 24 24\"\n",
              "       width=\"24px\">\n",
              "    <path d=\"M0 0h24v24H0V0z\" fill=\"none\"/>\n",
              "    <path d=\"M18.56 5.44l.94 2.06.94-2.06 2.06-.94-2.06-.94-.94-2.06-.94 2.06-2.06.94zm-11 1L8.5 8.5l.94-2.06 2.06-.94-2.06-.94L8.5 2.5l-.94 2.06-2.06.94zm10 10l.94 2.06.94-2.06 2.06-.94-2.06-.94-.94-2.06-.94 2.06-2.06.94z\"/><path d=\"M17.41 7.96l-1.37-1.37c-.4-.4-.92-.59-1.43-.59-.52 0-1.04.2-1.43.59L10.3 9.45l-7.72 7.72c-.78.78-.78 2.05 0 2.83L4 21.41c.39.39.9.59 1.41.59.51 0 1.02-.2 1.41-.59l7.78-7.78 2.81-2.81c.8-.78.8-2.07 0-2.86zM5.41 20L4 18.59l7.72-7.72 1.47 1.35L5.41 20z\"/>\n",
              "  </svg>\n",
              "      </button>\n",
              "      \n",
              "  <style>\n",
              "    .colab-df-container {\n",
              "      display:flex;\n",
              "      flex-wrap:wrap;\n",
              "      gap: 12px;\n",
              "    }\n",
              "\n",
              "    .colab-df-convert {\n",
              "      background-color: #E8F0FE;\n",
              "      border: none;\n",
              "      border-radius: 50%;\n",
              "      cursor: pointer;\n",
              "      display: none;\n",
              "      fill: #1967D2;\n",
              "      height: 32px;\n",
              "      padding: 0 0 0 0;\n",
              "      width: 32px;\n",
              "    }\n",
              "\n",
              "    .colab-df-convert:hover {\n",
              "      background-color: #E2EBFA;\n",
              "      box-shadow: 0px 1px 2px rgba(60, 64, 67, 0.3), 0px 1px 3px 1px rgba(60, 64, 67, 0.15);\n",
              "      fill: #174EA6;\n",
              "    }\n",
              "\n",
              "    [theme=dark] .colab-df-convert {\n",
              "      background-color: #3B4455;\n",
              "      fill: #D2E3FC;\n",
              "    }\n",
              "\n",
              "    [theme=dark] .colab-df-convert:hover {\n",
              "      background-color: #434B5C;\n",
              "      box-shadow: 0px 1px 3px 1px rgba(0, 0, 0, 0.15);\n",
              "      filter: drop-shadow(0px 1px 2px rgba(0, 0, 0, 0.3));\n",
              "      fill: #FFFFFF;\n",
              "    }\n",
              "  </style>\n",
              "\n",
              "      <script>\n",
              "        const buttonEl =\n",
              "          document.querySelector('#df-b271c6af-7d16-4bc5-8eaa-76ca042e6f1e button.colab-df-convert');\n",
              "        buttonEl.style.display =\n",
              "          google.colab.kernel.accessAllowed ? 'block' : 'none';\n",
              "\n",
              "        async function convertToInteractive(key) {\n",
              "          const element = document.querySelector('#df-b271c6af-7d16-4bc5-8eaa-76ca042e6f1e');\n",
              "          const dataTable =\n",
              "            await google.colab.kernel.invokeFunction('convertToInteractive',\n",
              "                                                     [key], {});\n",
              "          if (!dataTable) return;\n",
              "\n",
              "          const docLinkHtml = 'Like what you see? Visit the ' +\n",
              "            '<a target=\"_blank\" href=https://colab.research.google.com/notebooks/data_table.ipynb>data table notebook</a>'\n",
              "            + ' to learn more about interactive tables.';\n",
              "          element.innerHTML = '';\n",
              "          dataTable['output_type'] = 'display_data';\n",
              "          await google.colab.output.renderOutput(dataTable, element);\n",
              "          const docLink = document.createElement('div');\n",
              "          docLink.innerHTML = docLinkHtml;\n",
              "          element.appendChild(docLink);\n",
              "        }\n",
              "      </script>\n",
              "    </div>\n",
              "  </div>\n",
              "  "
            ],
            "text/plain": [
              "       Diabetes_binary  HighBP  High Cholesterol  Cholesterol Check   BMI  \\\n",
              "0                  0.0     1.0               0.0                1.0  26.0   \n",
              "1                  0.0     1.0               1.0                1.0  26.0   \n",
              "2                  0.0     0.0               0.0                1.0  26.0   \n",
              "3                  0.0     1.0               1.0                1.0  28.0   \n",
              "4                  0.0     0.0               0.0                1.0  29.0   \n",
              "...                ...     ...               ...                ...   ...   \n",
              "70687              1.0     0.0               1.0                1.0  37.0   \n",
              "70688              1.0     0.0               1.0                1.0  29.0   \n",
              "70689              1.0     1.0               1.0                1.0  25.0   \n",
              "70690              1.0     1.0               1.0                1.0  18.0   \n",
              "70691              1.0     1.0               1.0                1.0  25.0   \n",
              "\n",
              "       Smoker  Stroke  HeartDiseaseorAttack  Physical Activity  Fruits  ...  \\\n",
              "0         0.0     0.0                   0.0                1.0     0.0  ...   \n",
              "1         1.0     1.0                   0.0                0.0     1.0  ...   \n",
              "2         0.0     0.0                   0.0                1.0     1.0  ...   \n",
              "3         1.0     0.0                   0.0                1.0     1.0  ...   \n",
              "4         1.0     0.0                   0.0                1.0     1.0  ...   \n",
              "...       ...     ...                   ...                ...     ...  ...   \n",
              "70687     0.0     0.0                   0.0                0.0     0.0  ...   \n",
              "70688     1.0     0.0                   1.0                0.0     1.0  ...   \n",
              "70689     0.0     0.0                   1.0                0.0     1.0  ...   \n",
              "70690     0.0     0.0                   0.0                0.0     0.0  ...   \n",
              "70691     0.0     0.0                   1.0                1.0     1.0  ...   \n",
              "\n",
              "       Any Health Care  No Doctor because of Cost  General Health  \\\n",
              "0                  1.0                        0.0          Medium   \n",
              "1                  1.0                        0.0          Medium   \n",
              "2                  1.0                        0.0            High   \n",
              "3                  1.0                        0.0          Medium   \n",
              "4                  1.0                        0.0            Good   \n",
              "...                ...                        ...             ...   \n",
              "70687              1.0                        0.0             Low   \n",
              "70688              1.0                        0.0            Good   \n",
              "70689              1.0                        0.0        Very Low   \n",
              "70690              1.0                        0.0             Low   \n",
              "70691              1.0                        0.0            Good   \n",
              "\n",
              "       Mental Health Physical Health  Difficulty Walking     Sex   Age  \\\n",
              "0                5.0            30.0                 0.0    male   4.0   \n",
              "1                0.0             0.0                 0.0    male  12.0   \n",
              "2                0.0            10.0                 0.0    male  13.0   \n",
              "3                0.0             3.0                 0.0    male  11.0   \n",
              "4                0.0             0.0                 0.0  female   8.0   \n",
              "...              ...             ...                 ...     ...   ...   \n",
              "70687            0.0             0.0                 0.0  female   6.0   \n",
              "70688            0.0             0.0                 1.0    male  10.0   \n",
              "70689           15.0             0.0                 1.0  female  13.0   \n",
              "70690            0.0             0.0                 1.0  female  11.0   \n",
              "70691            0.0             0.0                 0.0  female   9.0   \n",
              "\n",
              "      Education  Income  \n",
              "0          Cat6    Cat8  \n",
              "1          Cat6    Cat8  \n",
              "2          Cat6    Cat8  \n",
              "3          Cat6    Cat8  \n",
              "4          Cat5    Cat8  \n",
              "...         ...     ...  \n",
              "70687      Cat4    Cat1  \n",
              "70688      Cat3    Cat6  \n",
              "70689      Cat6    Cat4  \n",
              "70690      Cat2    Cat4  \n",
              "70691      Cat6    Cat2  \n",
              "\n",
              "[70692 rows x 22 columns]"
            ]
          },
          "execution_count": 172,
          "metadata": {},
          "output_type": "execute_result"
        }
      ],
      "source": [
        "del df[\"Unnamed: 0\"]\n",
        "df"
      ]
    },
    {
      "cell_type": "markdown",
      "metadata": {
        "id": "69YXHLtRq7rV"
      },
      "source": [
        "Replacing `white spaces` in column names with `_`"
      ]
    },
    {
      "cell_type": "code",
      "execution_count": null,
      "metadata": {
        "colab": {
          "base_uri": "https://localhost:8080/"
        },
        "id": "DRQJjaZmq6kx",
        "outputId": "a62f31f7-c527-4963-ed34-02a2ae9f16a3"
      },
      "outputs": [
        {
          "data": {
            "text/plain": [
              "Index(['Diabetes_binary', 'HighBP', 'High_Cholesterol', 'Cholesterol_Check',\n",
              "       'BMI', 'Smoker', 'Stroke', 'HeartDiseaseorAttack', 'Physical_Activity',\n",
              "       'Fruits', 'Veggies', 'Heavy_Alcohol_Consumption', 'Any_Health_Care',\n",
              "       'No_Doctor_because_of_Cost', 'General_Health', 'Mental_Health',\n",
              "       'Physical_Health', 'Difficulty_Walking', 'Sex', 'Age', 'Education',\n",
              "       'Income'],\n",
              "      dtype='object')"
            ]
          },
          "execution_count": 173,
          "metadata": {},
          "output_type": "execute_result"
        }
      ],
      "source": [
        "df.columns = df.columns.str.replace(' ', '_')\n",
        "df.columns"
      ]
    },
    {
      "cell_type": "markdown",
      "metadata": {
        "id": "lFQ60imZvOFI"
      },
      "source": [
        "Replacing `white spaces` in `General_Health` column with `_`"
      ]
    },
    {
      "cell_type": "code",
      "execution_count": null,
      "metadata": {
        "colab": {
          "base_uri": "https://localhost:8080/"
        },
        "id": "Eq1-xrFVsFk5",
        "outputId": "d907cba1-af03-456a-d369-73dd5ce6053e"
      },
      "outputs": [
        {
          "data": {
            "text/plain": [
              "0          Medium\n",
              "1          Medium\n",
              "2            High\n",
              "3          Medium\n",
              "4            Good\n",
              "           ...   \n",
              "70687         Low\n",
              "70688        Good\n",
              "70689    Very_Low\n",
              "70690         Low\n",
              "70691        Good\n",
              "Name: General_Health, Length: 70692, dtype: object"
            ]
          },
          "execution_count": 174,
          "metadata": {},
          "output_type": "execute_result"
        }
      ],
      "source": [
        "df[\"General_Health\"] = df[\"General_Health\"].str.replace(' ', '_')\n",
        "df[\"General_Health\"]"
      ]
    },
    {
      "cell_type": "markdown",
      "metadata": {
        "id": "xGzYM3Fl73kn"
      },
      "source": [
        "### First lets check all the columns with `binary` values"
      ]
    },
    {
      "cell_type": "code",
      "execution_count": null,
      "metadata": {
        "colab": {
          "base_uri": "https://localhost:8080/"
        },
        "id": "iBQFA0UVv-r7",
        "outputId": "da5d4ac5-50b0-4590-c48d-8be51eb497d7"
      },
      "outputs": [
        {
          "name": "stdout",
          "output_type": "stream",
          "text": [
            "There are no null values in label column\n"
          ]
        }
      ],
      "source": [
        "label_is_null = pd.isnull(df[\"Diabetes_binary\"])\n",
        "\n",
        "try:\n",
        "  list(label_is_null).index(True)\n",
        "  print(\"There are null values in label column\")\n",
        "except:\n",
        "  print(\"There are no null values in label column\")"
      ]
    },
    {
      "cell_type": "code",
      "execution_count": null,
      "metadata": {
        "colab": {
          "base_uri": "https://localhost:8080/"
        },
        "id": "17iB0QEH2MB9",
        "outputId": "49264163-ca2f-4227-b915-58a5e062b134"
      },
      "outputs": [
        {
          "data": {
            "text/plain": [
              "[]"
            ]
          },
          "execution_count": 176,
          "metadata": {},
          "output_type": "execute_result"
        }
      ],
      "source": [
        "indices_null = list(locate(df[\"HighBP\"], lambda x: x not in [0, 1] ))\n",
        "indices_null"
      ]
    },
    {
      "cell_type": "code",
      "execution_count": null,
      "metadata": {
        "colab": {
          "base_uri": "https://localhost:8080/"
        },
        "id": "MUzmRMAe20oa",
        "outputId": "7f7b0afa-2c1e-4e40-c371-4da041a99876"
      },
      "outputs": [
        {
          "data": {
            "text/plain": [
              "[]"
            ]
          },
          "execution_count": 177,
          "metadata": {},
          "output_type": "execute_result"
        }
      ],
      "source": [
        "indices_null = list(locate(df[\"High_Cholesterol\"], lambda x: x not in [0, 1] ))\n",
        "indices_null"
      ]
    },
    {
      "cell_type": "code",
      "execution_count": null,
      "metadata": {
        "colab": {
          "base_uri": "https://localhost:8080/"
        },
        "id": "UdSUO13925B2",
        "outputId": "a84ad5d6-9f3c-40ac-87ac-5fe18542a287"
      },
      "outputs": [
        {
          "data": {
            "text/plain": [
              "[]"
            ]
          },
          "execution_count": 178,
          "metadata": {},
          "output_type": "execute_result"
        }
      ],
      "source": [
        "indices_null = list(locate(df[\"Cholesterol_Check\"], lambda x: x not in [0, 1] ))\n",
        "indices_null"
      ]
    },
    {
      "cell_type": "code",
      "execution_count": null,
      "metadata": {
        "colab": {
          "base_uri": "https://localhost:8080/"
        },
        "id": "IIVlUELe3Bc8",
        "outputId": "78acc39f-4e73-42bf-a0bc-c82a9ba50ff8"
      },
      "outputs": [
        {
          "data": {
            "text/plain": [
              "[]"
            ]
          },
          "execution_count": 179,
          "metadata": {},
          "output_type": "execute_result"
        }
      ],
      "source": [
        "indices_null = list(locate(df[\"Smoker\"], lambda x: x not in [0, 1] ))\n",
        "indices_null"
      ]
    },
    {
      "cell_type": "code",
      "execution_count": null,
      "metadata": {
        "colab": {
          "base_uri": "https://localhost:8080/"
        },
        "id": "6oOvaLKx3GmL",
        "outputId": "da45ba83-ddb3-4419-fe00-c17d18a1685c"
      },
      "outputs": [
        {
          "data": {
            "text/plain": [
              "[]"
            ]
          },
          "execution_count": 180,
          "metadata": {},
          "output_type": "execute_result"
        }
      ],
      "source": [
        "indices_null = list(locate(df[\"Stroke\"], lambda x: x not in [0, 1] ))\n",
        "indices_null"
      ]
    },
    {
      "cell_type": "code",
      "execution_count": null,
      "metadata": {
        "colab": {
          "base_uri": "https://localhost:8080/"
        },
        "id": "T4GtQk993Kl8",
        "outputId": "defc4271-cbbb-42d0-d9d4-1653155922b5"
      },
      "outputs": [
        {
          "data": {
            "text/plain": [
              "[11691]"
            ]
          },
          "execution_count": 181,
          "metadata": {},
          "output_type": "execute_result"
        }
      ],
      "source": [
        "indices_null = list(locate(df[\"HeartDiseaseorAttack\"], lambda x: x not in [0, 1] ))\n",
        "indices_null"
      ]
    },
    {
      "cell_type": "code",
      "execution_count": null,
      "metadata": {
        "colab": {
          "base_uri": "https://localhost:8080/"
        },
        "id": "pOQBsWEI3Vsf",
        "outputId": "6a55dd3d-7e12-4711-db73-cddda8b292d5"
      },
      "outputs": [
        {
          "data": {
            "text/plain": [
              "Diabetes_binary               0.0\n",
              "HighBP                        0.0\n",
              "High_Cholesterol              0.0\n",
              "Cholesterol_Check             1.0\n",
              "BMI                          27.0\n",
              "Smoker                        0.0\n",
              "Stroke                        0.0\n",
              "HeartDiseaseorAttack          NaN\n",
              "Physical_Activity             NaN\n",
              "Fruits                        NaN\n",
              "Veggies                       NaN\n",
              "Heavy_Alcohol_Consumption     NaN\n",
              "Any_Health_Care               NaN\n",
              "No_Doctor_because_of_Cost     NaN\n",
              "General_Health                NaN\n",
              "Mental_Health                 NaN\n",
              "Physical_Health               NaN\n",
              "Difficulty_Walking            NaN\n",
              "Sex                           NaN\n",
              "Age                           NaN\n",
              "Education                     NaN\n",
              "Income                        NaN\n",
              "Name: 11691, dtype: object"
            ]
          },
          "execution_count": 182,
          "metadata": {},
          "output_type": "execute_result"
        }
      ],
      "source": [
        "df.iloc[11691]"
      ]
    },
    {
      "cell_type": "markdown",
      "metadata": {
        "id": "fd9cCRpF3dJW"
      },
      "source": [
        "This entry has a lot of `NaN` values so its better to delete it completely"
      ]
    },
    {
      "cell_type": "code",
      "execution_count": null,
      "metadata": {
        "id": "ZO1bK8pA38d-"
      },
      "outputs": [],
      "source": [
        "df = df.drop(11691)"
      ]
    },
    {
      "cell_type": "code",
      "execution_count": null,
      "metadata": {
        "colab": {
          "base_uri": "https://localhost:8080/"
        },
        "id": "3Qt6fmIi4CTk",
        "outputId": "6c43b38e-be64-497f-859d-22920d29a05f"
      },
      "outputs": [
        {
          "data": {
            "text/plain": [
              "[]"
            ]
          },
          "execution_count": 184,
          "metadata": {},
          "output_type": "execute_result"
        }
      ],
      "source": [
        "indices_null = list(locate(df[\"HeartDiseaseorAttack\"], lambda x: x not in [0, 1] ))\n",
        "indices_null"
      ]
    },
    {
      "cell_type": "code",
      "execution_count": null,
      "metadata": {
        "colab": {
          "base_uri": "https://localhost:8080/"
        },
        "id": "z9VgRoTA4FAM",
        "outputId": "bda8f3be-f360-4830-c4ed-82171173f57b"
      },
      "outputs": [
        {
          "data": {
            "text/plain": [
              "[]"
            ]
          },
          "execution_count": 185,
          "metadata": {},
          "output_type": "execute_result"
        }
      ],
      "source": [
        "indices_null = list(locate(df[\"Physical_Activity\"], lambda x: x not in [0, 1] ))\n",
        "indices_null"
      ]
    },
    {
      "cell_type": "code",
      "execution_count": null,
      "metadata": {
        "colab": {
          "base_uri": "https://localhost:8080/"
        },
        "id": "i5VIgBIX4N8A",
        "outputId": "a6f3b3a6-b7eb-414f-9d64-01c7eb1bb185"
      },
      "outputs": [
        {
          "data": {
            "text/plain": [
              "[10000]"
            ]
          },
          "execution_count": 186,
          "metadata": {},
          "output_type": "execute_result"
        }
      ],
      "source": [
        "indices_null = list(locate(df[\"Fruits\"], lambda x: x not in [0, 1] ))\n",
        "indices_null"
      ]
    },
    {
      "cell_type": "code",
      "execution_count": null,
      "metadata": {
        "colab": {
          "base_uri": "https://localhost:8080/"
        },
        "id": "6GRJbmsG4gyY",
        "outputId": "de9719b7-d346-40e5-f6af-f39004da9ff3"
      },
      "outputs": [
        {
          "data": {
            "text/plain": [
              "Diabetes_binary               0.0\n",
              "HighBP                        0.0\n",
              "High_Cholesterol              1.0\n",
              "Cholesterol_Check             1.0\n",
              "BMI                          21.0\n",
              "Smoker                        1.0\n",
              "Stroke                        1.0\n",
              "HeartDiseaseorAttack          0.0\n",
              "Physical_Activity             0.0\n",
              "Fruits                        NaN\n",
              "Veggies                       1.0\n",
              "Heavy_Alcohol_Consumption     0.0\n",
              "Any_Health_Care               1.0\n",
              "No_Doctor_because_of_Cost     0.0\n",
              "General_Health                Low\n",
              "Mental_Health                 0.0\n",
              "Physical_Health              30.0\n",
              "Difficulty_Walking            0.0\n",
              "Sex                          male\n",
              "Age                          13.0\n",
              "Education                    Cat5\n",
              "Income                       Cat7\n",
              "Name: 10000, dtype: object"
            ]
          },
          "execution_count": 187,
          "metadata": {},
          "output_type": "execute_result"
        }
      ],
      "source": [
        "df.iloc[10000]"
      ]
    },
    {
      "cell_type": "markdown",
      "metadata": {
        "id": "Axn1NFwu5BN_"
      },
      "source": [
        "I fill this cell with value `1` just because the patient consumes `veggies` and does not have `heavy alcohol consumtion`"
      ]
    },
    {
      "cell_type": "code",
      "execution_count": null,
      "metadata": {
        "colab": {
          "base_uri": "https://localhost:8080/"
        },
        "id": "GKzOXC4q4znb",
        "outputId": "cc555e50-0936-400b-b448-533d3f148baf"
      },
      "outputs": [
        {
          "data": {
            "text/plain": [
              "Diabetes_binary               0.0\n",
              "HighBP                        0.0\n",
              "High_Cholesterol              1.0\n",
              "Cholesterol_Check             1.0\n",
              "BMI                          21.0\n",
              "Smoker                        1.0\n",
              "Stroke                        1.0\n",
              "HeartDiseaseorAttack          0.0\n",
              "Physical_Activity             0.0\n",
              "Fruits                        1.0\n",
              "Veggies                       1.0\n",
              "Heavy_Alcohol_Consumption     0.0\n",
              "Any_Health_Care               1.0\n",
              "No_Doctor_because_of_Cost     0.0\n",
              "General_Health                Low\n",
              "Mental_Health                 0.0\n",
              "Physical_Health              30.0\n",
              "Difficulty_Walking            0.0\n",
              "Sex                          male\n",
              "Age                          13.0\n",
              "Education                    Cat5\n",
              "Income                       Cat7\n",
              "Name: 10000, dtype: object"
            ]
          },
          "execution_count": 188,
          "metadata": {},
          "output_type": "execute_result"
        }
      ],
      "source": [
        "df.at[10000, 'Fruits'] = 1.0\n",
        "df.iloc[10000]"
      ]
    },
    {
      "cell_type": "code",
      "execution_count": null,
      "metadata": {
        "colab": {
          "base_uri": "https://localhost:8080/"
        },
        "id": "VZtyrFOg6kEG",
        "outputId": "b44b7e0f-daaf-485c-e37d-4ebb510a2c53"
      },
      "outputs": [
        {
          "data": {
            "text/plain": [
              "[]"
            ]
          },
          "execution_count": 189,
          "metadata": {},
          "output_type": "execute_result"
        }
      ],
      "source": [
        "indices_null = list(locate(df[\"Veggies\"], lambda x: x not in [0, 1] ))\n",
        "indices_null"
      ]
    },
    {
      "cell_type": "code",
      "execution_count": null,
      "metadata": {
        "colab": {
          "base_uri": "https://localhost:8080/"
        },
        "id": "5iCPCWwg6skU",
        "outputId": "23542f96-ec97-40e4-b521-df3496d20cbd"
      },
      "outputs": [
        {
          "data": {
            "text/plain": [
              "[]"
            ]
          },
          "execution_count": 190,
          "metadata": {},
          "output_type": "execute_result"
        }
      ],
      "source": [
        "indices_null = list(locate(df[\"Heavy_Alcohol_Consumption\"], lambda x: x not in [0, 1] ))\n",
        "indices_null"
      ]
    },
    {
      "cell_type": "code",
      "execution_count": null,
      "metadata": {
        "colab": {
          "base_uri": "https://localhost:8080/"
        },
        "id": "VtYQzvp561pH",
        "outputId": "dcdae031-57f7-4f7d-87c6-09db7be493c2"
      },
      "outputs": [
        {
          "data": {
            "text/plain": [
              "[19999]"
            ]
          },
          "execution_count": 191,
          "metadata": {},
          "output_type": "execute_result"
        }
      ],
      "source": [
        "indices_null = list(locate(df[\"Any_Health_Care\"], lambda x: x not in [0, 1] ))\n",
        "indices_null"
      ]
    },
    {
      "cell_type": "code",
      "execution_count": null,
      "metadata": {
        "colab": {
          "base_uri": "https://localhost:8080/"
        },
        "id": "Ekgjmh8M68CU",
        "outputId": "c97f0a77-499c-46c6-9f80-cf4337a78ce2"
      },
      "outputs": [
        {
          "data": {
            "text/plain": [
              "Diabetes_binary                 0.0\n",
              "HighBP                          1.0\n",
              "High_Cholesterol                0.0\n",
              "Cholesterol_Check               1.0\n",
              "BMI                            26.0\n",
              "Smoker                          0.0\n",
              "Stroke                          0.0\n",
              "HeartDiseaseorAttack            0.0\n",
              "Physical_Activity               1.0\n",
              "Fruits                          1.0\n",
              "Veggies                         1.0\n",
              "Heavy_Alcohol_Consumption       0.0\n",
              "Any_Health_Care                 NaN\n",
              "No_Doctor_because_of_Cost       0.0\n",
              "General_Health                 Good\n",
              "Mental_Health                   0.0\n",
              "Physical_Health                 0.0\n",
              "Difficulty_Walking              1.0\n",
              "Sex                          female\n",
              "Age                            13.0\n",
              "Education                      Cat3\n",
              "Income                         Cat5\n",
              "Name: 20000, dtype: object"
            ]
          },
          "execution_count": 192,
          "metadata": {},
          "output_type": "execute_result"
        }
      ],
      "source": [
        "df.iloc[19999]"
      ]
    },
    {
      "cell_type": "markdown",
      "metadata": {
        "id": "up0z5tFg7L5g"
      },
      "source": [
        "She seems healthy so she probably has `Health care`"
      ]
    },
    {
      "cell_type": "code",
      "execution_count": null,
      "metadata": {
        "colab": {
          "base_uri": "https://localhost:8080/"
        },
        "id": "OSU_ZTXXErhY",
        "outputId": "05335516-a6f6-4816-b5f5-55409c5d1712"
      },
      "outputs": [
        {
          "data": {
            "text/plain": [
              "Diabetes_binary                 0.0\n",
              "HighBP                          1.0\n",
              "High_Cholesterol                0.0\n",
              "Cholesterol_Check               1.0\n",
              "BMI                            26.0\n",
              "Smoker                          0.0\n",
              "Stroke                          0.0\n",
              "HeartDiseaseorAttack            0.0\n",
              "Physical_Activity               1.0\n",
              "Fruits                          1.0\n",
              "Veggies                         1.0\n",
              "Heavy_Alcohol_Consumption       0.0\n",
              "Any_Health_Care                 1.0\n",
              "No_Doctor_because_of_Cost       0.0\n",
              "General_Health                 Good\n",
              "Mental_Health                   0.0\n",
              "Physical_Health                 0.0\n",
              "Difficulty_Walking              1.0\n",
              "Sex                          female\n",
              "Age                            13.0\n",
              "Education                      Cat3\n",
              "Income                         Cat5\n",
              "Name: 20000, dtype: object"
            ]
          },
          "execution_count": 193,
          "metadata": {},
          "output_type": "execute_result"
        }
      ],
      "source": [
        "df['Any_Health_Care'].fillna(1.0, inplace=True)\n",
        "df.iloc[19999]"
      ]
    },
    {
      "cell_type": "code",
      "execution_count": null,
      "metadata": {
        "colab": {
          "base_uri": "https://localhost:8080/"
        },
        "id": "n8VjEHk_7XdA",
        "outputId": "c548f91a-036e-4a9d-9bec-8f372fb4208d"
      },
      "outputs": [
        {
          "data": {
            "text/plain": [
              "[29999]"
            ]
          },
          "execution_count": 194,
          "metadata": {},
          "output_type": "execute_result"
        }
      ],
      "source": [
        "indices_null = list(locate(df[\"No_Doctor_because_of_Cost\"], lambda x: x not in [0, 1] ))\n",
        "indices_null"
      ]
    },
    {
      "cell_type": "code",
      "execution_count": null,
      "metadata": {
        "colab": {
          "base_uri": "https://localhost:8080/"
        },
        "id": "4cQhKWi67dJC",
        "outputId": "3e020199-43f1-4b48-f8d6-7d401dcf8c78"
      },
      "outputs": [
        {
          "data": {
            "text/plain": [
              "Diabetes_binary                 0.0\n",
              "HighBP                          0.0\n",
              "High_Cholesterol                0.0\n",
              "Cholesterol_Check               1.0\n",
              "BMI                            22.0\n",
              "Smoker                          0.0\n",
              "Stroke                          0.0\n",
              "HeartDiseaseorAttack            0.0\n",
              "Physical_Activity               1.0\n",
              "Fruits                          1.0\n",
              "Veggies                         1.0\n",
              "Heavy_Alcohol_Consumption       0.0\n",
              "Any_Health_Care                 1.0\n",
              "No_Doctor_because_of_Cost       NaN\n",
              "General_Health                 Good\n",
              "Mental_Health                   0.0\n",
              "Physical_Health                 0.0\n",
              "Difficulty_Walking              0.0\n",
              "Sex                          female\n",
              "Age                             6.0\n",
              "Education                      Cat6\n",
              "Income                         Cat5\n",
              "Name: 30000, dtype: object"
            ]
          },
          "execution_count": 195,
          "metadata": {},
          "output_type": "execute_result"
        }
      ],
      "source": [
        "df.iloc[29999]"
      ]
    },
    {
      "cell_type": "markdown",
      "metadata": {
        "id": "qSFlkMwE7r6C"
      },
      "source": [
        "Don't have any idea about it. Lets just put 0.0"
      ]
    },
    {
      "cell_type": "code",
      "execution_count": null,
      "metadata": {
        "colab": {
          "base_uri": "https://localhost:8080/"
        },
        "id": "oFhaBgGJ7mjc",
        "outputId": "4c30f085-ec60-4556-d689-a1b3674a25b7"
      },
      "outputs": [
        {
          "data": {
            "text/plain": [
              "Diabetes_binary                 0.0\n",
              "HighBP                          0.0\n",
              "High_Cholesterol                0.0\n",
              "Cholesterol_Check               1.0\n",
              "BMI                            22.0\n",
              "Smoker                          0.0\n",
              "Stroke                          0.0\n",
              "HeartDiseaseorAttack            0.0\n",
              "Physical_Activity               1.0\n",
              "Fruits                          1.0\n",
              "Veggies                         1.0\n",
              "Heavy_Alcohol_Consumption       0.0\n",
              "Any_Health_Care                 1.0\n",
              "No_Doctor_because_of_Cost       0.0\n",
              "General_Health                 Good\n",
              "Mental_Health                   0.0\n",
              "Physical_Health                 0.0\n",
              "Difficulty_Walking              0.0\n",
              "Sex                          female\n",
              "Age                             6.0\n",
              "Education                      Cat6\n",
              "Income                         Cat5\n",
              "Name: 30000, dtype: object"
            ]
          },
          "execution_count": 196,
          "metadata": {},
          "output_type": "execute_result"
        }
      ],
      "source": [
        "df['No_Doctor_because_of_Cost'].fillna(0.0, inplace=True)\n",
        "df.iloc[29999]"
      ]
    },
    {
      "cell_type": "code",
      "execution_count": null,
      "metadata": {
        "colab": {
          "base_uri": "https://localhost:8080/"
        },
        "id": "_Yn3nDPF9FEr",
        "outputId": "164beaa5-dd23-4d35-f17b-3e076b49654a"
      },
      "outputs": [
        {
          "data": {
            "text/plain": [
              "[39999]"
            ]
          },
          "execution_count": 197,
          "metadata": {},
          "output_type": "execute_result"
        }
      ],
      "source": [
        "indices_null = list(locate(df[\"Difficulty_Walking\"], lambda x: x not in [0, 1] ))\n",
        "indices_null"
      ]
    },
    {
      "cell_type": "code",
      "execution_count": null,
      "metadata": {
        "colab": {
          "base_uri": "https://localhost:8080/"
        },
        "id": "-LXD-YXj9Io6",
        "outputId": "19c3ae20-430a-4c63-ec6f-9826021e8422"
      },
      "outputs": [
        {
          "data": {
            "text/plain": [
              "Diabetes_binary                 1.0\n",
              "HighBP                          1.0\n",
              "High_Cholesterol                0.0\n",
              "Cholesterol_Check               1.0\n",
              "BMI                            32.0\n",
              "Smoker                          1.0\n",
              "Stroke                          0.0\n",
              "HeartDiseaseorAttack            0.0\n",
              "Physical_Activity               0.0\n",
              "Fruits                          1.0\n",
              "Veggies                         1.0\n",
              "Heavy_Alcohol_Consumption       0.0\n",
              "Any_Health_Care                 1.0\n",
              "No_Doctor_because_of_Cost       0.0\n",
              "General_Health               Medium\n",
              "Mental_Health                   0.0\n",
              "Physical_Health                 0.0\n",
              "Difficulty_Walking              NaN\n",
              "Sex                            male\n",
              "Age                             8.0\n",
              "Education                      Cat5\n",
              "Income                         Cat7\n",
              "Name: 40000, dtype: object"
            ]
          },
          "execution_count": 198,
          "metadata": {},
          "output_type": "execute_result"
        }
      ],
      "source": [
        "df.iloc[39999]"
      ]
    },
    {
      "cell_type": "markdown",
      "metadata": {
        "id": "IgnMXTQc9Mbp"
      },
      "source": [
        "He probably has difficulty walking"
      ]
    },
    {
      "cell_type": "code",
      "execution_count": null,
      "metadata": {
        "colab": {
          "base_uri": "https://localhost:8080/"
        },
        "id": "ibbHhibT9PRS",
        "outputId": "8e39f93b-860d-467b-ff45-d96bdff4e760"
      },
      "outputs": [
        {
          "data": {
            "text/plain": [
              "Diabetes_binary                 1.0\n",
              "HighBP                          1.0\n",
              "High_Cholesterol                0.0\n",
              "Cholesterol_Check               1.0\n",
              "BMI                            32.0\n",
              "Smoker                          1.0\n",
              "Stroke                          0.0\n",
              "HeartDiseaseorAttack            0.0\n",
              "Physical_Activity               0.0\n",
              "Fruits                          1.0\n",
              "Veggies                         1.0\n",
              "Heavy_Alcohol_Consumption       0.0\n",
              "Any_Health_Care                 1.0\n",
              "No_Doctor_because_of_Cost       0.0\n",
              "General_Health               Medium\n",
              "Mental_Health                   0.0\n",
              "Physical_Health                 0.0\n",
              "Difficulty_Walking              1.0\n",
              "Sex                            male\n",
              "Age                             8.0\n",
              "Education                      Cat5\n",
              "Income                         Cat7\n",
              "Name: 40000, dtype: object"
            ]
          },
          "execution_count": 199,
          "metadata": {},
          "output_type": "execute_result"
        }
      ],
      "source": [
        "df['Difficulty_Walking'].fillna(1.0, inplace=True)\n",
        "df.iloc[39999]"
      ]
    },
    {
      "cell_type": "markdown",
      "metadata": {
        "id": "rBvC4D3bHc2B"
      },
      "source": [
        "### Handling other columns"
      ]
    },
    {
      "cell_type": "code",
      "execution_count": null,
      "metadata": {
        "colab": {
          "base_uri": "https://localhost:8080/"
        },
        "id": "LYIGPpIIXbAP",
        "outputId": "9cd69298-0017-4553-9fe1-4a3e6226e94b"
      },
      "outputs": [
        {
          "data": {
            "text/plain": [
              "count     70691\n",
              "unique        9\n",
              "top        Cat8\n",
              "freq      20645\n",
              "Name: Income, dtype: object"
            ]
          },
          "execution_count": 232,
          "metadata": {},
          "output_type": "execute_result"
        }
      ],
      "source": [
        "df[\"Income\"].describe()"
      ]
    },
    {
      "cell_type": "code",
      "execution_count": null,
      "metadata": {
        "colab": {
          "base_uri": "https://localhost:8080/"
        },
        "id": "KC-6eQxlXPKp",
        "outputId": "7aa02580-3c21-49d0-bda8-319e0cb540f3"
      },
      "outputs": [
        {
          "data": {
            "text/plain": [
              "[59999]"
            ]
          },
          "execution_count": 236,
          "metadata": {},
          "output_type": "execute_result"
        }
      ],
      "source": [
        "indices_null = list(locate(df[\"Income\"], lambda x: x == \"Unknown\" ))\n",
        "indices_null"
      ]
    },
    {
      "cell_type": "code",
      "execution_count": null,
      "metadata": {
        "colab": {
          "base_uri": "https://localhost:8080/"
        },
        "id": "2rGuzkfsXqS2",
        "outputId": "8f88738f-6a98-46c1-d7d6-6debb1df377b"
      },
      "outputs": [
        {
          "data": {
            "text/plain": [
              "Diabetes_binary                      1.0\n",
              "HighBP                               1.0\n",
              "High_Cholesterol                     1.0\n",
              "Cholesterol_Check                    0.0\n",
              "BMI                          almost_good\n",
              "Smoker                               1.0\n",
              "Stroke                               1.0\n",
              "HeartDiseaseorAttack                 0.0\n",
              "Physical_Activity                    1.0\n",
              "Fruits                               0.0\n",
              "Veggies                              0.0\n",
              "Heavy_Alcohol_Consumption            0.0\n",
              "Any_Health_Care                      1.0\n",
              "No_Doctor_because_of_Cost            0.0\n",
              "General_Health                       Low\n",
              "Mental_Health                        1.0\n",
              "Physical_Health                      1.0\n",
              "Difficulty_Walking                   1.0\n",
              "Sex                               female\n",
              "Age                             0.583333\n",
              "Education                           Cat5\n",
              "Income                           Unknown\n",
              "Name: 59999, dtype: object"
            ]
          },
          "execution_count": 234,
          "metadata": {},
          "output_type": "execute_result"
        }
      ],
      "source": [
        "df.iloc[59999]"
      ]
    },
    {
      "cell_type": "code",
      "execution_count": null,
      "metadata": {
        "colab": {
          "base_uri": "https://localhost:8080/"
        },
        "id": "MFCHL9yhYBPM",
        "outputId": "d2d9f863-5f72-4134-e822-31380d0fc856"
      },
      "outputs": [
        {
          "data": {
            "text/plain": [
              "Diabetes_binary                      1.0\n",
              "HighBP                               1.0\n",
              "High_Cholesterol                     1.0\n",
              "Cholesterol_Check                    0.0\n",
              "BMI                          almost_good\n",
              "Smoker                               1.0\n",
              "Stroke                               1.0\n",
              "HeartDiseaseorAttack                 0.0\n",
              "Physical_Activity                    1.0\n",
              "Fruits                               0.0\n",
              "Veggies                              0.0\n",
              "Heavy_Alcohol_Consumption            0.0\n",
              "Any_Health_Care                      1.0\n",
              "No_Doctor_because_of_Cost            0.0\n",
              "General_Health                       Low\n",
              "Mental_Health                        1.0\n",
              "Physical_Health                      1.0\n",
              "Difficulty_Walking                   1.0\n",
              "Sex                               female\n",
              "Age                             0.583333\n",
              "Education                           Cat5\n",
              "Income                              Cat8\n",
              "Name: 59999, dtype: object"
            ]
          },
          "execution_count": 237,
          "metadata": {},
          "output_type": "execute_result"
        }
      ],
      "source": [
        "df.at[59999, 'Income'] = df['Income'].mode()[0]\n",
        "df.iloc[59999]"
      ]
    },
    {
      "cell_type": "markdown",
      "metadata": {
        "id": "-FkXhu9mI7MZ"
      },
      "source": [
        "Fill `NaN` values in these columns with their mod"
      ]
    },
    {
      "cell_type": "code",
      "execution_count": null,
      "metadata": {
        "id": "MGrYjk8_Hk0j"
      },
      "outputs": [],
      "source": [
        "non_binary_columns = [\"BMI\", \"General_Health\", \"Mental_Health\", \"Physical_Health\", \"Sex\", \"Age\", \"Education\", \"Income\"]\n",
        "for col in non_binary_columns:\n",
        "  df[col].fillna(df[col].mode()[0], inplace=True)"
      ]
    },
    {
      "cell_type": "code",
      "execution_count": null,
      "metadata": {
        "colab": {
          "base_uri": "https://localhost:8080/"
        },
        "id": "JeP8nCF6JFzG",
        "outputId": "2cc6fec6-4f43-47b0-dc03-45ca7f48c90b"
      },
      "outputs": [
        {
          "data": {
            "text/plain": [
              "[]"
            ]
          },
          "execution_count": 239,
          "metadata": {},
          "output_type": "execute_result"
        }
      ],
      "source": [
        "indices_null = []\n",
        "for col in non_binary_columns:\n",
        "  indices_null += list(locate(df[col], lambda x: x != x))\n",
        "indices_null"
      ]
    },
    {
      "cell_type": "markdown",
      "metadata": {
        "id": "RGnb-HHuKB56"
      },
      "source": [
        "So there are no `NaN` values in the dataset anymore"
      ]
    },
    {
      "cell_type": "markdown",
      "metadata": {
        "id": "FVEuOiOHKR3n"
      },
      "source": [
        "### Normalization"
      ]
    },
    {
      "cell_type": "code",
      "execution_count": null,
      "metadata": {
        "colab": {
          "base_uri": "https://localhost:8080/"
        },
        "id": "K24DdoAYLXLt",
        "outputId": "7e2e8aec-15ca-4e54-92dd-51b4ea09d642"
      },
      "outputs": [
        {
          "data": {
            "text/plain": [
              "count    70691.000000\n",
              "mean         8.584105\n",
              "std          2.852141\n",
              "min          1.000000\n",
              "25%          7.000000\n",
              "50%          9.000000\n",
              "75%         11.000000\n",
              "max         13.000000\n",
              "Name: Age, dtype: float64"
            ]
          },
          "execution_count": 211,
          "metadata": {},
          "output_type": "execute_result"
        }
      ],
      "source": [
        "df[\"Age\"].describe()"
      ]
    },
    {
      "cell_type": "code",
      "execution_count": null,
      "metadata": {
        "colab": {
          "base_uri": "https://localhost:8080/"
        },
        "id": "iVnm0nswLkg_",
        "outputId": "24b80b83-cb8d-4235-c36b-62ac796c47b6"
      },
      "outputs": [
        {
          "data": {
            "text/plain": [
              "count    70691.000000\n",
              "mean         3.752062\n",
              "std          8.155682\n",
              "min          0.000000\n",
              "25%          0.000000\n",
              "50%          0.000000\n",
              "75%          2.000000\n",
              "max         30.000000\n",
              "Name: Mental_Health, dtype: float64"
            ]
          },
          "execution_count": 212,
          "metadata": {},
          "output_type": "execute_result"
        }
      ],
      "source": [
        "df[\"Mental_Health\"].describe()"
      ]
    },
    {
      "cell_type": "code",
      "execution_count": null,
      "metadata": {
        "colab": {
          "base_uri": "https://localhost:8080/"
        },
        "id": "MF2eQ2bJLlbL",
        "outputId": "005182ed-31d7-457d-a708-efb4cf3e0baa"
      },
      "outputs": [
        {
          "data": {
            "text/plain": [
              "count    70691.000000\n",
              "mean         5.810499\n",
              "std         10.062308\n",
              "min          0.000000\n",
              "25%          0.000000\n",
              "50%          0.000000\n",
              "75%          6.000000\n",
              "max         30.000000\n",
              "Name: Physical_Health, dtype: float64"
            ]
          },
          "execution_count": 213,
          "metadata": {},
          "output_type": "execute_result"
        }
      ],
      "source": [
        "df[\"Physical_Health\"].describe()"
      ]
    },
    {
      "cell_type": "code",
      "execution_count": null,
      "metadata": {
        "id": "aCA7Fq2QM4gB"
      },
      "outputs": [],
      "source": [
        "scaler = MinMaxScaler()\n",
        "df[[\"Age\", \"Mental_Health\", \"Physical_Health\"]] = scaler.fit_transform(df[[\"Age\", \"Mental_Health\", \"Physical_Health\"]])"
      ]
    },
    {
      "cell_type": "code",
      "execution_count": null,
      "metadata": {
        "colab": {
          "base_uri": "https://localhost:8080/"
        },
        "id": "TBcguTSQNNUa",
        "outputId": "2f52e9e9-d66f-430f-9a93-f90cbd3c3155"
      },
      "outputs": [
        {
          "data": {
            "text/plain": [
              "(count    70691.000000\n",
              " mean         0.632009\n",
              " std          0.237678\n",
              " min          0.000000\n",
              " 25%          0.500000\n",
              " 50%          0.666667\n",
              " 75%          0.833333\n",
              " max          1.000000\n",
              " Name: Age, dtype: float64, count    70691.000000\n",
              " mean         0.125069\n",
              " std          0.271856\n",
              " min          0.000000\n",
              " 25%          0.000000\n",
              " 50%          0.000000\n",
              " 75%          0.066667\n",
              " max          1.000000\n",
              " Name: Mental_Health, dtype: float64, count    70691.000000\n",
              " mean         0.193683\n",
              " std          0.335410\n",
              " min          0.000000\n",
              " 25%          0.000000\n",
              " 50%          0.000000\n",
              " 75%          0.200000\n",
              " max          1.000000\n",
              " Name: Physical_Health, dtype: float64)"
            ]
          },
          "execution_count": 216,
          "metadata": {},
          "output_type": "execute_result"
        }
      ],
      "source": [
        "df[\"Age\"].describe(), df[\"Mental_Health\"].describe(), df[\"Physical_Health\"].describe()"
      ]
    },
    {
      "cell_type": "code",
      "execution_count": null,
      "metadata": {
        "colab": {
          "base_uri": "https://localhost:8080/"
        },
        "id": "350O-rxdK6yd",
        "outputId": "d81996de-97fc-4778-a5c5-7dc316a9d8b3"
      },
      "outputs": [
        {
          "data": {
            "text/plain": [
              "count    70691.000000\n",
              "mean        29.856955\n",
              "std          7.114000\n",
              "min         12.000000\n",
              "25%         25.000000\n",
              "50%         29.000000\n",
              "75%         33.000000\n",
              "max         98.000000\n",
              "Name: BMI, dtype: float64"
            ]
          },
          "execution_count": 210,
          "metadata": {},
          "output_type": "execute_result"
        }
      ],
      "source": [
        "df[\"BMI\"].describe()"
      ]
    },
    {
      "cell_type": "code",
      "execution_count": null,
      "metadata": {
        "colab": {
          "base_uri": "https://localhost:8080/"
        },
        "id": "FggROgzUN6TE",
        "outputId": "68086a23-a625-4f17-f663-56095638486b"
      },
      "outputs": [
        {
          "data": {
            "text/plain": [
              "0        26.0\n",
              "1        26.0\n",
              "2        26.0\n",
              "3        28.0\n",
              "4        29.0\n",
              "         ... \n",
              "70687    37.0\n",
              "70688    29.0\n",
              "70689    25.0\n",
              "70690    18.0\n",
              "70691    25.0\n",
              "Name: BMI, Length: 70691, dtype: float64"
            ]
          },
          "execution_count": 218,
          "metadata": {},
          "output_type": "execute_result"
        }
      ],
      "source": [
        "df_BMI_backup = df[\"BMI\"]\n",
        "df_BMI_backup"
      ]
    },
    {
      "cell_type": "code",
      "execution_count": null,
      "metadata": {
        "colab": {
          "base_uri": "https://localhost:8080/"
        },
        "id": "Aj2nlM0ROEKg",
        "outputId": "f2e99c00-02f2-44e4-c3e6-dc1baab922b8"
      },
      "outputs": [
        {
          "data": {
            "text/plain": [
              "0        good\n",
              "1        good\n",
              "2        good\n",
              "3        good\n",
              "4        good\n",
              "         ... \n",
              "70687    high\n",
              "70688    good\n",
              "70689     low\n",
              "70690     low\n",
              "70691     low\n",
              "Name: BMI, Length: 70691, dtype: category\n",
              "Categories (4, object): ['low' < 'good' < 'almost_good' < 'high']"
            ]
          },
          "execution_count": 219,
          "metadata": {},
          "output_type": "execute_result"
        }
      ],
      "source": [
        "df['BMI'] = pd.cut(df.BMI, bins=[0.0, 25.0, 29.0, 33.0, 99.0], labels=[\"low\", \"good\", \"almost_good\", \"high\"])\n",
        "df['BMI']"
      ]
    },
    {
      "cell_type": "code",
      "execution_count": null,
      "metadata": {
        "colab": {
          "base_uri": "https://localhost:8080/"
        },
        "id": "REV8MmLJPskW",
        "outputId": "4a2ced9f-cad6-4022-b12c-f1d713ef276f"
      },
      "outputs": [
        {
          "data": {
            "text/plain": [
              "count     70691\n",
              "unique        4\n",
              "top        good\n",
              "freq      20104\n",
              "Name: BMI, dtype: object"
            ]
          },
          "execution_count": 220,
          "metadata": {},
          "output_type": "execute_result"
        }
      ],
      "source": [
        "df[\"BMI\"].describe()"
      ]
    },
    {
      "cell_type": "markdown",
      "metadata": {
        "id": "f5uGAQIhQIAH"
      },
      "source": [
        "### One-hot-encoding for categorical values"
      ]
    },
    {
      "cell_type": "code",
      "execution_count": null,
      "metadata": {
        "colab": {
          "base_uri": "https://localhost:8080/",
          "height": 487
        },
        "id": "h--NtbpWQVr6",
        "outputId": "d02ae3dd-de7a-4370-dbc1-6c5ac358e879"
      },
      "outputs": [
        {
          "data": {
            "text/html": [
              "\n",
              "  <div id=\"df-950be80b-6b47-47f8-b14c-df28221e7d5f\">\n",
              "    <div class=\"colab-df-container\">\n",
              "      <div>\n",
              "<style scoped>\n",
              "    .dataframe tbody tr th:only-of-type {\n",
              "        vertical-align: middle;\n",
              "    }\n",
              "\n",
              "    .dataframe tbody tr th {\n",
              "        vertical-align: top;\n",
              "    }\n",
              "\n",
              "    .dataframe thead th {\n",
              "        text-align: right;\n",
              "    }\n",
              "</style>\n",
              "<table border=\"1\" class=\"dataframe\">\n",
              "  <thead>\n",
              "    <tr style=\"text-align: right;\">\n",
              "      <th></th>\n",
              "      <th>Diabetes_binary</th>\n",
              "      <th>HighBP</th>\n",
              "      <th>High_Cholesterol</th>\n",
              "      <th>Cholesterol_Check</th>\n",
              "      <th>BMI</th>\n",
              "      <th>Smoker</th>\n",
              "      <th>Stroke</th>\n",
              "      <th>HeartDiseaseorAttack</th>\n",
              "      <th>Physical_Activity</th>\n",
              "      <th>Fruits</th>\n",
              "      <th>...</th>\n",
              "      <th>Any_Health_Care</th>\n",
              "      <th>No_Doctor_because_of_Cost</th>\n",
              "      <th>General_Health</th>\n",
              "      <th>Mental_Health</th>\n",
              "      <th>Physical_Health</th>\n",
              "      <th>Difficulty_Walking</th>\n",
              "      <th>Sex</th>\n",
              "      <th>Age</th>\n",
              "      <th>Education</th>\n",
              "      <th>Income</th>\n",
              "    </tr>\n",
              "  </thead>\n",
              "  <tbody>\n",
              "    <tr>\n",
              "      <th>0</th>\n",
              "      <td>0.0</td>\n",
              "      <td>1.0</td>\n",
              "      <td>0.0</td>\n",
              "      <td>1.0</td>\n",
              "      <td>good</td>\n",
              "      <td>0.0</td>\n",
              "      <td>0.0</td>\n",
              "      <td>0.0</td>\n",
              "      <td>1.0</td>\n",
              "      <td>0.0</td>\n",
              "      <td>...</td>\n",
              "      <td>1.0</td>\n",
              "      <td>0.0</td>\n",
              "      <td>Medium</td>\n",
              "      <td>0.166667</td>\n",
              "      <td>1.000000</td>\n",
              "      <td>0.0</td>\n",
              "      <td>male</td>\n",
              "      <td>0.250000</td>\n",
              "      <td>Cat6</td>\n",
              "      <td>Cat8</td>\n",
              "    </tr>\n",
              "    <tr>\n",
              "      <th>1</th>\n",
              "      <td>0.0</td>\n",
              "      <td>1.0</td>\n",
              "      <td>1.0</td>\n",
              "      <td>1.0</td>\n",
              "      <td>good</td>\n",
              "      <td>1.0</td>\n",
              "      <td>1.0</td>\n",
              "      <td>0.0</td>\n",
              "      <td>0.0</td>\n",
              "      <td>1.0</td>\n",
              "      <td>...</td>\n",
              "      <td>1.0</td>\n",
              "      <td>0.0</td>\n",
              "      <td>Medium</td>\n",
              "      <td>0.000000</td>\n",
              "      <td>0.000000</td>\n",
              "      <td>0.0</td>\n",
              "      <td>male</td>\n",
              "      <td>0.916667</td>\n",
              "      <td>Cat6</td>\n",
              "      <td>Cat8</td>\n",
              "    </tr>\n",
              "    <tr>\n",
              "      <th>2</th>\n",
              "      <td>0.0</td>\n",
              "      <td>0.0</td>\n",
              "      <td>0.0</td>\n",
              "      <td>1.0</td>\n",
              "      <td>good</td>\n",
              "      <td>0.0</td>\n",
              "      <td>0.0</td>\n",
              "      <td>0.0</td>\n",
              "      <td>1.0</td>\n",
              "      <td>1.0</td>\n",
              "      <td>...</td>\n",
              "      <td>1.0</td>\n",
              "      <td>0.0</td>\n",
              "      <td>High</td>\n",
              "      <td>0.000000</td>\n",
              "      <td>0.333333</td>\n",
              "      <td>0.0</td>\n",
              "      <td>male</td>\n",
              "      <td>1.000000</td>\n",
              "      <td>Cat6</td>\n",
              "      <td>Cat8</td>\n",
              "    </tr>\n",
              "    <tr>\n",
              "      <th>3</th>\n",
              "      <td>0.0</td>\n",
              "      <td>1.0</td>\n",
              "      <td>1.0</td>\n",
              "      <td>1.0</td>\n",
              "      <td>good</td>\n",
              "      <td>1.0</td>\n",
              "      <td>0.0</td>\n",
              "      <td>0.0</td>\n",
              "      <td>1.0</td>\n",
              "      <td>1.0</td>\n",
              "      <td>...</td>\n",
              "      <td>1.0</td>\n",
              "      <td>0.0</td>\n",
              "      <td>Medium</td>\n",
              "      <td>0.000000</td>\n",
              "      <td>0.100000</td>\n",
              "      <td>0.0</td>\n",
              "      <td>male</td>\n",
              "      <td>0.833333</td>\n",
              "      <td>Cat6</td>\n",
              "      <td>Cat8</td>\n",
              "    </tr>\n",
              "    <tr>\n",
              "      <th>4</th>\n",
              "      <td>0.0</td>\n",
              "      <td>0.0</td>\n",
              "      <td>0.0</td>\n",
              "      <td>1.0</td>\n",
              "      <td>good</td>\n",
              "      <td>1.0</td>\n",
              "      <td>0.0</td>\n",
              "      <td>0.0</td>\n",
              "      <td>1.0</td>\n",
              "      <td>1.0</td>\n",
              "      <td>...</td>\n",
              "      <td>1.0</td>\n",
              "      <td>0.0</td>\n",
              "      <td>Good</td>\n",
              "      <td>0.000000</td>\n",
              "      <td>0.000000</td>\n",
              "      <td>0.0</td>\n",
              "      <td>female</td>\n",
              "      <td>0.583333</td>\n",
              "      <td>Cat5</td>\n",
              "      <td>Cat8</td>\n",
              "    </tr>\n",
              "    <tr>\n",
              "      <th>...</th>\n",
              "      <td>...</td>\n",
              "      <td>...</td>\n",
              "      <td>...</td>\n",
              "      <td>...</td>\n",
              "      <td>...</td>\n",
              "      <td>...</td>\n",
              "      <td>...</td>\n",
              "      <td>...</td>\n",
              "      <td>...</td>\n",
              "      <td>...</td>\n",
              "      <td>...</td>\n",
              "      <td>...</td>\n",
              "      <td>...</td>\n",
              "      <td>...</td>\n",
              "      <td>...</td>\n",
              "      <td>...</td>\n",
              "      <td>...</td>\n",
              "      <td>...</td>\n",
              "      <td>...</td>\n",
              "      <td>...</td>\n",
              "      <td>...</td>\n",
              "    </tr>\n",
              "    <tr>\n",
              "      <th>70686</th>\n",
              "      <td>1.0</td>\n",
              "      <td>0.0</td>\n",
              "      <td>1.0</td>\n",
              "      <td>1.0</td>\n",
              "      <td>high</td>\n",
              "      <td>0.0</td>\n",
              "      <td>0.0</td>\n",
              "      <td>0.0</td>\n",
              "      <td>0.0</td>\n",
              "      <td>0.0</td>\n",
              "      <td>...</td>\n",
              "      <td>1.0</td>\n",
              "      <td>0.0</td>\n",
              "      <td>Low</td>\n",
              "      <td>0.000000</td>\n",
              "      <td>0.000000</td>\n",
              "      <td>0.0</td>\n",
              "      <td>female</td>\n",
              "      <td>0.416667</td>\n",
              "      <td>Cat4</td>\n",
              "      <td>Cat1</td>\n",
              "    </tr>\n",
              "    <tr>\n",
              "      <th>70687</th>\n",
              "      <td>1.0</td>\n",
              "      <td>0.0</td>\n",
              "      <td>1.0</td>\n",
              "      <td>1.0</td>\n",
              "      <td>good</td>\n",
              "      <td>1.0</td>\n",
              "      <td>0.0</td>\n",
              "      <td>1.0</td>\n",
              "      <td>0.0</td>\n",
              "      <td>1.0</td>\n",
              "      <td>...</td>\n",
              "      <td>1.0</td>\n",
              "      <td>0.0</td>\n",
              "      <td>Good</td>\n",
              "      <td>0.000000</td>\n",
              "      <td>0.000000</td>\n",
              "      <td>1.0</td>\n",
              "      <td>male</td>\n",
              "      <td>0.750000</td>\n",
              "      <td>Cat3</td>\n",
              "      <td>Cat6</td>\n",
              "    </tr>\n",
              "    <tr>\n",
              "      <th>70688</th>\n",
              "      <td>1.0</td>\n",
              "      <td>1.0</td>\n",
              "      <td>1.0</td>\n",
              "      <td>1.0</td>\n",
              "      <td>low</td>\n",
              "      <td>0.0</td>\n",
              "      <td>0.0</td>\n",
              "      <td>1.0</td>\n",
              "      <td>0.0</td>\n",
              "      <td>1.0</td>\n",
              "      <td>...</td>\n",
              "      <td>1.0</td>\n",
              "      <td>0.0</td>\n",
              "      <td>Very_Low</td>\n",
              "      <td>0.500000</td>\n",
              "      <td>0.000000</td>\n",
              "      <td>1.0</td>\n",
              "      <td>female</td>\n",
              "      <td>1.000000</td>\n",
              "      <td>Cat6</td>\n",
              "      <td>Cat4</td>\n",
              "    </tr>\n",
              "    <tr>\n",
              "      <th>70689</th>\n",
              "      <td>1.0</td>\n",
              "      <td>1.0</td>\n",
              "      <td>1.0</td>\n",
              "      <td>1.0</td>\n",
              "      <td>low</td>\n",
              "      <td>0.0</td>\n",
              "      <td>0.0</td>\n",
              "      <td>0.0</td>\n",
              "      <td>0.0</td>\n",
              "      <td>0.0</td>\n",
              "      <td>...</td>\n",
              "      <td>1.0</td>\n",
              "      <td>0.0</td>\n",
              "      <td>Low</td>\n",
              "      <td>0.000000</td>\n",
              "      <td>0.000000</td>\n",
              "      <td>1.0</td>\n",
              "      <td>female</td>\n",
              "      <td>0.833333</td>\n",
              "      <td>Cat2</td>\n",
              "      <td>Cat4</td>\n",
              "    </tr>\n",
              "    <tr>\n",
              "      <th>70690</th>\n",
              "      <td>1.0</td>\n",
              "      <td>1.0</td>\n",
              "      <td>1.0</td>\n",
              "      <td>1.0</td>\n",
              "      <td>low</td>\n",
              "      <td>0.0</td>\n",
              "      <td>0.0</td>\n",
              "      <td>1.0</td>\n",
              "      <td>1.0</td>\n",
              "      <td>1.0</td>\n",
              "      <td>...</td>\n",
              "      <td>1.0</td>\n",
              "      <td>0.0</td>\n",
              "      <td>Good</td>\n",
              "      <td>0.000000</td>\n",
              "      <td>0.000000</td>\n",
              "      <td>0.0</td>\n",
              "      <td>female</td>\n",
              "      <td>0.666667</td>\n",
              "      <td>Cat6</td>\n",
              "      <td>Cat2</td>\n",
              "    </tr>\n",
              "  </tbody>\n",
              "</table>\n",
              "<p>70691 rows × 22 columns</p>\n",
              "</div>\n",
              "      <button class=\"colab-df-convert\" onclick=\"convertToInteractive('df-950be80b-6b47-47f8-b14c-df28221e7d5f')\"\n",
              "              title=\"Convert this dataframe to an interactive table.\"\n",
              "              style=\"display:none;\">\n",
              "        \n",
              "  <svg xmlns=\"http://www.w3.org/2000/svg\" height=\"24px\"viewBox=\"0 0 24 24\"\n",
              "       width=\"24px\">\n",
              "    <path d=\"M0 0h24v24H0V0z\" fill=\"none\"/>\n",
              "    <path d=\"M18.56 5.44l.94 2.06.94-2.06 2.06-.94-2.06-.94-.94-2.06-.94 2.06-2.06.94zm-11 1L8.5 8.5l.94-2.06 2.06-.94-2.06-.94L8.5 2.5l-.94 2.06-2.06.94zm10 10l.94 2.06.94-2.06 2.06-.94-2.06-.94-.94-2.06-.94 2.06-2.06.94z\"/><path d=\"M17.41 7.96l-1.37-1.37c-.4-.4-.92-.59-1.43-.59-.52 0-1.04.2-1.43.59L10.3 9.45l-7.72 7.72c-.78.78-.78 2.05 0 2.83L4 21.41c.39.39.9.59 1.41.59.51 0 1.02-.2 1.41-.59l7.78-7.78 2.81-2.81c.8-.78.8-2.07 0-2.86zM5.41 20L4 18.59l7.72-7.72 1.47 1.35L5.41 20z\"/>\n",
              "  </svg>\n",
              "      </button>\n",
              "      \n",
              "  <style>\n",
              "    .colab-df-container {\n",
              "      display:flex;\n",
              "      flex-wrap:wrap;\n",
              "      gap: 12px;\n",
              "    }\n",
              "\n",
              "    .colab-df-convert {\n",
              "      background-color: #E8F0FE;\n",
              "      border: none;\n",
              "      border-radius: 50%;\n",
              "      cursor: pointer;\n",
              "      display: none;\n",
              "      fill: #1967D2;\n",
              "      height: 32px;\n",
              "      padding: 0 0 0 0;\n",
              "      width: 32px;\n",
              "    }\n",
              "\n",
              "    .colab-df-convert:hover {\n",
              "      background-color: #E2EBFA;\n",
              "      box-shadow: 0px 1px 2px rgba(60, 64, 67, 0.3), 0px 1px 3px 1px rgba(60, 64, 67, 0.15);\n",
              "      fill: #174EA6;\n",
              "    }\n",
              "\n",
              "    [theme=dark] .colab-df-convert {\n",
              "      background-color: #3B4455;\n",
              "      fill: #D2E3FC;\n",
              "    }\n",
              "\n",
              "    [theme=dark] .colab-df-convert:hover {\n",
              "      background-color: #434B5C;\n",
              "      box-shadow: 0px 1px 3px 1px rgba(0, 0, 0, 0.15);\n",
              "      filter: drop-shadow(0px 1px 2px rgba(0, 0, 0, 0.3));\n",
              "      fill: #FFFFFF;\n",
              "    }\n",
              "  </style>\n",
              "\n",
              "      <script>\n",
              "        const buttonEl =\n",
              "          document.querySelector('#df-950be80b-6b47-47f8-b14c-df28221e7d5f button.colab-df-convert');\n",
              "        buttonEl.style.display =\n",
              "          google.colab.kernel.accessAllowed ? 'block' : 'none';\n",
              "\n",
              "        async function convertToInteractive(key) {\n",
              "          const element = document.querySelector('#df-950be80b-6b47-47f8-b14c-df28221e7d5f');\n",
              "          const dataTable =\n",
              "            await google.colab.kernel.invokeFunction('convertToInteractive',\n",
              "                                                     [key], {});\n",
              "          if (!dataTable) return;\n",
              "\n",
              "          const docLinkHtml = 'Like what you see? Visit the ' +\n",
              "            '<a target=\"_blank\" href=https://colab.research.google.com/notebooks/data_table.ipynb>data table notebook</a>'\n",
              "            + ' to learn more about interactive tables.';\n",
              "          element.innerHTML = '';\n",
              "          dataTable['output_type'] = 'display_data';\n",
              "          await google.colab.output.renderOutput(dataTable, element);\n",
              "          const docLink = document.createElement('div');\n",
              "          docLink.innerHTML = docLinkHtml;\n",
              "          element.appendChild(docLink);\n",
              "        }\n",
              "      </script>\n",
              "    </div>\n",
              "  </div>\n",
              "  "
            ],
            "text/plain": [
              "       Diabetes_binary  HighBP  High_Cholesterol  Cholesterol_Check   BMI  \\\n",
              "0                  0.0     1.0               0.0                1.0  good   \n",
              "1                  0.0     1.0               1.0                1.0  good   \n",
              "2                  0.0     0.0               0.0                1.0  good   \n",
              "3                  0.0     1.0               1.0                1.0  good   \n",
              "4                  0.0     0.0               0.0                1.0  good   \n",
              "...                ...     ...               ...                ...   ...   \n",
              "70686              1.0     0.0               1.0                1.0  high   \n",
              "70687              1.0     0.0               1.0                1.0  good   \n",
              "70688              1.0     1.0               1.0                1.0   low   \n",
              "70689              1.0     1.0               1.0                1.0   low   \n",
              "70690              1.0     1.0               1.0                1.0   low   \n",
              "\n",
              "       Smoker  Stroke  HeartDiseaseorAttack  Physical_Activity  Fruits  ...  \\\n",
              "0         0.0     0.0                   0.0                1.0     0.0  ...   \n",
              "1         1.0     1.0                   0.0                0.0     1.0  ...   \n",
              "2         0.0     0.0                   0.0                1.0     1.0  ...   \n",
              "3         1.0     0.0                   0.0                1.0     1.0  ...   \n",
              "4         1.0     0.0                   0.0                1.0     1.0  ...   \n",
              "...       ...     ...                   ...                ...     ...  ...   \n",
              "70686     0.0     0.0                   0.0                0.0     0.0  ...   \n",
              "70687     1.0     0.0                   1.0                0.0     1.0  ...   \n",
              "70688     0.0     0.0                   1.0                0.0     1.0  ...   \n",
              "70689     0.0     0.0                   0.0                0.0     0.0  ...   \n",
              "70690     0.0     0.0                   1.0                1.0     1.0  ...   \n",
              "\n",
              "       Any_Health_Care  No_Doctor_because_of_Cost  General_Health  \\\n",
              "0                  1.0                        0.0          Medium   \n",
              "1                  1.0                        0.0          Medium   \n",
              "2                  1.0                        0.0            High   \n",
              "3                  1.0                        0.0          Medium   \n",
              "4                  1.0                        0.0            Good   \n",
              "...                ...                        ...             ...   \n",
              "70686              1.0                        0.0             Low   \n",
              "70687              1.0                        0.0            Good   \n",
              "70688              1.0                        0.0        Very_Low   \n",
              "70689              1.0                        0.0             Low   \n",
              "70690              1.0                        0.0            Good   \n",
              "\n",
              "       Mental_Health Physical_Health  Difficulty_Walking     Sex       Age  \\\n",
              "0           0.166667        1.000000                 0.0    male  0.250000   \n",
              "1           0.000000        0.000000                 0.0    male  0.916667   \n",
              "2           0.000000        0.333333                 0.0    male  1.000000   \n",
              "3           0.000000        0.100000                 0.0    male  0.833333   \n",
              "4           0.000000        0.000000                 0.0  female  0.583333   \n",
              "...              ...             ...                 ...     ...       ...   \n",
              "70686       0.000000        0.000000                 0.0  female  0.416667   \n",
              "70687       0.000000        0.000000                 1.0    male  0.750000   \n",
              "70688       0.500000        0.000000                 1.0  female  1.000000   \n",
              "70689       0.000000        0.000000                 1.0  female  0.833333   \n",
              "70690       0.000000        0.000000                 0.0  female  0.666667   \n",
              "\n",
              "      Education  Income  \n",
              "0          Cat6    Cat8  \n",
              "1          Cat6    Cat8  \n",
              "2          Cat6    Cat8  \n",
              "3          Cat6    Cat8  \n",
              "4          Cat5    Cat8  \n",
              "...         ...     ...  \n",
              "70686      Cat4    Cat1  \n",
              "70687      Cat3    Cat6  \n",
              "70688      Cat6    Cat4  \n",
              "70689      Cat2    Cat4  \n",
              "70690      Cat6    Cat2  \n",
              "\n",
              "[70691 rows x 22 columns]"
            ]
          },
          "execution_count": 242,
          "metadata": {},
          "output_type": "execute_result"
        }
      ],
      "source": [
        "df"
      ]
    },
    {
      "cell_type": "code",
      "execution_count": null,
      "metadata": {
        "colab": {
          "base_uri": "https://localhost:8080/",
          "height": 423
        },
        "id": "19UALuJyVqIG",
        "outputId": "da41bfc7-5e7f-485f-f435-3ab744f57722"
      },
      "outputs": [
        {
          "data": {
            "text/html": [
              "\n",
              "  <div id=\"df-b436228e-46a5-44d9-9ab7-023e2320f2e2\">\n",
              "    <div class=\"colab-df-container\">\n",
              "      <div>\n",
              "<style scoped>\n",
              "    .dataframe tbody tr th:only-of-type {\n",
              "        vertical-align: middle;\n",
              "    }\n",
              "\n",
              "    .dataframe tbody tr th {\n",
              "        vertical-align: top;\n",
              "    }\n",
              "\n",
              "    .dataframe thead th {\n",
              "        text-align: right;\n",
              "    }\n",
              "</style>\n",
              "<table border=\"1\" class=\"dataframe\">\n",
              "  <thead>\n",
              "    <tr style=\"text-align: right;\">\n",
              "      <th></th>\n",
              "      <th>BMI_almost_good</th>\n",
              "      <th>BMI_good</th>\n",
              "      <th>BMI_high</th>\n",
              "      <th>BMI_low</th>\n",
              "    </tr>\n",
              "  </thead>\n",
              "  <tbody>\n",
              "    <tr>\n",
              "      <th>0</th>\n",
              "      <td>0</td>\n",
              "      <td>1</td>\n",
              "      <td>0</td>\n",
              "      <td>0</td>\n",
              "    </tr>\n",
              "    <tr>\n",
              "      <th>1</th>\n",
              "      <td>0</td>\n",
              "      <td>1</td>\n",
              "      <td>0</td>\n",
              "      <td>0</td>\n",
              "    </tr>\n",
              "    <tr>\n",
              "      <th>2</th>\n",
              "      <td>0</td>\n",
              "      <td>1</td>\n",
              "      <td>0</td>\n",
              "      <td>0</td>\n",
              "    </tr>\n",
              "    <tr>\n",
              "      <th>3</th>\n",
              "      <td>0</td>\n",
              "      <td>1</td>\n",
              "      <td>0</td>\n",
              "      <td>0</td>\n",
              "    </tr>\n",
              "    <tr>\n",
              "      <th>4</th>\n",
              "      <td>0</td>\n",
              "      <td>1</td>\n",
              "      <td>0</td>\n",
              "      <td>0</td>\n",
              "    </tr>\n",
              "    <tr>\n",
              "      <th>...</th>\n",
              "      <td>...</td>\n",
              "      <td>...</td>\n",
              "      <td>...</td>\n",
              "      <td>...</td>\n",
              "    </tr>\n",
              "    <tr>\n",
              "      <th>70686</th>\n",
              "      <td>0</td>\n",
              "      <td>0</td>\n",
              "      <td>1</td>\n",
              "      <td>0</td>\n",
              "    </tr>\n",
              "    <tr>\n",
              "      <th>70687</th>\n",
              "      <td>0</td>\n",
              "      <td>1</td>\n",
              "      <td>0</td>\n",
              "      <td>0</td>\n",
              "    </tr>\n",
              "    <tr>\n",
              "      <th>70688</th>\n",
              "      <td>0</td>\n",
              "      <td>0</td>\n",
              "      <td>0</td>\n",
              "      <td>1</td>\n",
              "    </tr>\n",
              "    <tr>\n",
              "      <th>70689</th>\n",
              "      <td>0</td>\n",
              "      <td>0</td>\n",
              "      <td>0</td>\n",
              "      <td>1</td>\n",
              "    </tr>\n",
              "    <tr>\n",
              "      <th>70690</th>\n",
              "      <td>0</td>\n",
              "      <td>0</td>\n",
              "      <td>0</td>\n",
              "      <td>1</td>\n",
              "    </tr>\n",
              "  </tbody>\n",
              "</table>\n",
              "<p>70691 rows × 4 columns</p>\n",
              "</div>\n",
              "      <button class=\"colab-df-convert\" onclick=\"convertToInteractive('df-b436228e-46a5-44d9-9ab7-023e2320f2e2')\"\n",
              "              title=\"Convert this dataframe to an interactive table.\"\n",
              "              style=\"display:none;\">\n",
              "        \n",
              "  <svg xmlns=\"http://www.w3.org/2000/svg\" height=\"24px\"viewBox=\"0 0 24 24\"\n",
              "       width=\"24px\">\n",
              "    <path d=\"M0 0h24v24H0V0z\" fill=\"none\"/>\n",
              "    <path d=\"M18.56 5.44l.94 2.06.94-2.06 2.06-.94-2.06-.94-.94-2.06-.94 2.06-2.06.94zm-11 1L8.5 8.5l.94-2.06 2.06-.94-2.06-.94L8.5 2.5l-.94 2.06-2.06.94zm10 10l.94 2.06.94-2.06 2.06-.94-2.06-.94-.94-2.06-.94 2.06-2.06.94z\"/><path d=\"M17.41 7.96l-1.37-1.37c-.4-.4-.92-.59-1.43-.59-.52 0-1.04.2-1.43.59L10.3 9.45l-7.72 7.72c-.78.78-.78 2.05 0 2.83L4 21.41c.39.39.9.59 1.41.59.51 0 1.02-.2 1.41-.59l7.78-7.78 2.81-2.81c.8-.78.8-2.07 0-2.86zM5.41 20L4 18.59l7.72-7.72 1.47 1.35L5.41 20z\"/>\n",
              "  </svg>\n",
              "      </button>\n",
              "      \n",
              "  <style>\n",
              "    .colab-df-container {\n",
              "      display:flex;\n",
              "      flex-wrap:wrap;\n",
              "      gap: 12px;\n",
              "    }\n",
              "\n",
              "    .colab-df-convert {\n",
              "      background-color: #E8F0FE;\n",
              "      border: none;\n",
              "      border-radius: 50%;\n",
              "      cursor: pointer;\n",
              "      display: none;\n",
              "      fill: #1967D2;\n",
              "      height: 32px;\n",
              "      padding: 0 0 0 0;\n",
              "      width: 32px;\n",
              "    }\n",
              "\n",
              "    .colab-df-convert:hover {\n",
              "      background-color: #E2EBFA;\n",
              "      box-shadow: 0px 1px 2px rgba(60, 64, 67, 0.3), 0px 1px 3px 1px rgba(60, 64, 67, 0.15);\n",
              "      fill: #174EA6;\n",
              "    }\n",
              "\n",
              "    [theme=dark] .colab-df-convert {\n",
              "      background-color: #3B4455;\n",
              "      fill: #D2E3FC;\n",
              "    }\n",
              "\n",
              "    [theme=dark] .colab-df-convert:hover {\n",
              "      background-color: #434B5C;\n",
              "      box-shadow: 0px 1px 3px 1px rgba(0, 0, 0, 0.15);\n",
              "      filter: drop-shadow(0px 1px 2px rgba(0, 0, 0, 0.3));\n",
              "      fill: #FFFFFF;\n",
              "    }\n",
              "  </style>\n",
              "\n",
              "      <script>\n",
              "        const buttonEl =\n",
              "          document.querySelector('#df-b436228e-46a5-44d9-9ab7-023e2320f2e2 button.colab-df-convert');\n",
              "        buttonEl.style.display =\n",
              "          google.colab.kernel.accessAllowed ? 'block' : 'none';\n",
              "\n",
              "        async function convertToInteractive(key) {\n",
              "          const element = document.querySelector('#df-b436228e-46a5-44d9-9ab7-023e2320f2e2');\n",
              "          const dataTable =\n",
              "            await google.colab.kernel.invokeFunction('convertToInteractive',\n",
              "                                                     [key], {});\n",
              "          if (!dataTable) return;\n",
              "\n",
              "          const docLinkHtml = 'Like what you see? Visit the ' +\n",
              "            '<a target=\"_blank\" href=https://colab.research.google.com/notebooks/data_table.ipynb>data table notebook</a>'\n",
              "            + ' to learn more about interactive tables.';\n",
              "          element.innerHTML = '';\n",
              "          dataTable['output_type'] = 'display_data';\n",
              "          await google.colab.output.renderOutput(dataTable, element);\n",
              "          const docLink = document.createElement('div');\n",
              "          docLink.innerHTML = docLinkHtml;\n",
              "          element.appendChild(docLink);\n",
              "        }\n",
              "      </script>\n",
              "    </div>\n",
              "  </div>\n",
              "  "
            ],
            "text/plain": [
              "       BMI_almost_good  BMI_good  BMI_high  BMI_low\n",
              "0                    0         1         0        0\n",
              "1                    0         1         0        0\n",
              "2                    0         1         0        0\n",
              "3                    0         1         0        0\n",
              "4                    0         1         0        0\n",
              "...                ...       ...       ...      ...\n",
              "70686                0         0         1        0\n",
              "70687                0         1         0        0\n",
              "70688                0         0         0        1\n",
              "70689                0         0         0        1\n",
              "70690                0         0         0        1\n",
              "\n",
              "[70691 rows x 4 columns]"
            ]
          },
          "execution_count": 243,
          "metadata": {},
          "output_type": "execute_result"
        }
      ],
      "source": [
        "pd.get_dummies(df['BMI'], prefix='BMI')"
      ]
    },
    {
      "cell_type": "code",
      "execution_count": null,
      "metadata": {
        "id": "9lvRS15aQQhT"
      },
      "outputs": [],
      "source": [
        "from pandas.core.strings.accessor import cat_core\n",
        "cat_cols = [\"BMI\", \"General_Health\", \"Sex\", \"Education\", \"Income\"]\n",
        "for col in cat_cols:\n",
        "  one_hot_cat = pd.get_dummies(df[col], prefix=col)\n",
        "  df = df.join(one_hot_cat)\n",
        "  df.drop(col, axis=1, inplace=True)"
      ]
    },
    {
      "cell_type": "code",
      "execution_count": null,
      "metadata": {
        "colab": {
          "base_uri": "https://localhost:8080/"
        },
        "id": "pUoCcvG0WfrV",
        "outputId": "a93fa9e2-86d7-4683-fcd9-1d4edff7ee84"
      },
      "outputs": [
        {
          "data": {
            "text/plain": [
              "Index(['Diabetes_binary', 'HighBP', 'High_Cholesterol', 'Cholesterol_Check',\n",
              "       'Smoker', 'Stroke', 'HeartDiseaseorAttack', 'Physical_Activity',\n",
              "       'Fruits', 'Veggies', 'Heavy_Alcohol_Consumption', 'Any_Health_Care',\n",
              "       'No_Doctor_because_of_Cost', 'Mental_Health', 'Physical_Health',\n",
              "       'Difficulty_Walking', 'Age', 'BMI_almost_good', 'BMI_good', 'BMI_high',\n",
              "       'BMI_low', 'General_Health_Good', 'General_Health_High',\n",
              "       'General_Health_Low', 'General_Health_Medium',\n",
              "       'General_Health_Very_Low', 'Sex_female', 'Sex_male', 'Education_Cat1',\n",
              "       'Education_Cat2', 'Education_Cat3', 'Education_Cat4', 'Education_Cat5',\n",
              "       'Education_Cat6', 'Income_Cat1', 'Income_Cat2', 'Income_Cat3',\n",
              "       'Income_Cat4', 'Income_Cat5', 'Income_Cat6', 'Income_Cat7',\n",
              "       'Income_Cat8'],\n",
              "      dtype='object')"
            ]
          },
          "execution_count": 245,
          "metadata": {},
          "output_type": "execute_result"
        }
      ],
      "source": [
        "df.columns"
      ]
    },
    {
      "cell_type": "markdown",
      "metadata": {
        "id": "FoCJRk1lTY5V"
      },
      "source": [
        "Save the preprocessed dataframe as csv"
      ]
    },
    {
      "cell_type": "markdown",
      "metadata": {
        "id": "0Y2gXteKZZfq"
      },
      "source": [
        "### Cut label column from other features"
      ]
    },
    {
      "cell_type": "code",
      "execution_count": null,
      "metadata": {
        "colab": {
          "base_uri": "https://localhost:8080/"
        },
        "id": "vCLmU7GzZlL5",
        "outputId": "d81e33bb-7e63-4a05-ee99-791ad04acf7f"
      },
      "outputs": [
        {
          "data": {
            "text/plain": [
              "0        0.0\n",
              "1        0.0\n",
              "2        0.0\n",
              "3        0.0\n",
              "4        0.0\n",
              "        ... \n",
              "70686    1.0\n",
              "70687    1.0\n",
              "70688    1.0\n",
              "70689    1.0\n",
              "70690    1.0\n",
              "Name: Diabetes_binary, Length: 70691, dtype: float64"
            ]
          },
          "execution_count": 248,
          "metadata": {},
          "output_type": "execute_result"
        }
      ],
      "source": [
        "labels = df[\"Diabetes_binary\"]\n",
        "labels"
      ]
    },
    {
      "cell_type": "code",
      "execution_count": null,
      "metadata": {
        "id": "zv6f1-oNZ5qL"
      },
      "outputs": [],
      "source": [
        "df.drop(\"Diabetes_binary\", axis=1, inplace=True)"
      ]
    },
    {
      "cell_type": "code",
      "execution_count": null,
      "metadata": {
        "id": "dekNOCpoTYYr"
      },
      "outputs": [],
      "source": [
        "df.to_csv(base_path + \"preprocessed_dataset.csv\", index=False)\n",
        "labels.to_csv(base_path + \"labels.csv\", index=False)"
      ]
    },
    {
      "cell_type": "markdown",
      "metadata": {
        "id": "MmvjuG3bwn1R"
      },
      "source": [
        "## Building the Classification Model"
      ]
    },
    {
      "cell_type": "code",
      "execution_count": 3,
      "metadata": {
        "id": "-2qo6zXSW6JX"
      },
      "outputs": [],
      "source": [
        "df = pd.read_csv(base_path + 'preprocessed_dataset.csv')\n",
        "labels = pd.read_csv(base_path + 'labels.csv')"
      ]
    },
    {
      "cell_type": "code",
      "execution_count": 4,
      "metadata": {
        "colab": {
          "base_uri": "https://localhost:8080/",
          "height": 423
        },
        "id": "13Bzi-vmZNg-",
        "outputId": "0c741b5a-0011-4ef1-fc25-ddac2aee9d3f"
      },
      "outputs": [
        {
          "output_type": "execute_result",
          "data": {
            "text/plain": [
              "       Diabetes_binary\n",
              "0                  0.0\n",
              "1                  0.0\n",
              "2                  0.0\n",
              "3                  0.0\n",
              "4                  0.0\n",
              "...                ...\n",
              "70686              1.0\n",
              "70687              1.0\n",
              "70688              1.0\n",
              "70689              1.0\n",
              "70690              1.0\n",
              "\n",
              "[70691 rows x 1 columns]"
            ],
            "text/html": [
              "\n",
              "  <div id=\"df-e60600d7-a81c-4c38-b27f-9209c850a26c\">\n",
              "    <div class=\"colab-df-container\">\n",
              "      <div>\n",
              "<style scoped>\n",
              "    .dataframe tbody tr th:only-of-type {\n",
              "        vertical-align: middle;\n",
              "    }\n",
              "\n",
              "    .dataframe tbody tr th {\n",
              "        vertical-align: top;\n",
              "    }\n",
              "\n",
              "    .dataframe thead th {\n",
              "        text-align: right;\n",
              "    }\n",
              "</style>\n",
              "<table border=\"1\" class=\"dataframe\">\n",
              "  <thead>\n",
              "    <tr style=\"text-align: right;\">\n",
              "      <th></th>\n",
              "      <th>Diabetes_binary</th>\n",
              "    </tr>\n",
              "  </thead>\n",
              "  <tbody>\n",
              "    <tr>\n",
              "      <th>0</th>\n",
              "      <td>0.0</td>\n",
              "    </tr>\n",
              "    <tr>\n",
              "      <th>1</th>\n",
              "      <td>0.0</td>\n",
              "    </tr>\n",
              "    <tr>\n",
              "      <th>2</th>\n",
              "      <td>0.0</td>\n",
              "    </tr>\n",
              "    <tr>\n",
              "      <th>3</th>\n",
              "      <td>0.0</td>\n",
              "    </tr>\n",
              "    <tr>\n",
              "      <th>4</th>\n",
              "      <td>0.0</td>\n",
              "    </tr>\n",
              "    <tr>\n",
              "      <th>...</th>\n",
              "      <td>...</td>\n",
              "    </tr>\n",
              "    <tr>\n",
              "      <th>70686</th>\n",
              "      <td>1.0</td>\n",
              "    </tr>\n",
              "    <tr>\n",
              "      <th>70687</th>\n",
              "      <td>1.0</td>\n",
              "    </tr>\n",
              "    <tr>\n",
              "      <th>70688</th>\n",
              "      <td>1.0</td>\n",
              "    </tr>\n",
              "    <tr>\n",
              "      <th>70689</th>\n",
              "      <td>1.0</td>\n",
              "    </tr>\n",
              "    <tr>\n",
              "      <th>70690</th>\n",
              "      <td>1.0</td>\n",
              "    </tr>\n",
              "  </tbody>\n",
              "</table>\n",
              "<p>70691 rows × 1 columns</p>\n",
              "</div>\n",
              "      <button class=\"colab-df-convert\" onclick=\"convertToInteractive('df-e60600d7-a81c-4c38-b27f-9209c850a26c')\"\n",
              "              title=\"Convert this dataframe to an interactive table.\"\n",
              "              style=\"display:none;\">\n",
              "        \n",
              "  <svg xmlns=\"http://www.w3.org/2000/svg\" height=\"24px\"viewBox=\"0 0 24 24\"\n",
              "       width=\"24px\">\n",
              "    <path d=\"M0 0h24v24H0V0z\" fill=\"none\"/>\n",
              "    <path d=\"M18.56 5.44l.94 2.06.94-2.06 2.06-.94-2.06-.94-.94-2.06-.94 2.06-2.06.94zm-11 1L8.5 8.5l.94-2.06 2.06-.94-2.06-.94L8.5 2.5l-.94 2.06-2.06.94zm10 10l.94 2.06.94-2.06 2.06-.94-2.06-.94-.94-2.06-.94 2.06-2.06.94z\"/><path d=\"M17.41 7.96l-1.37-1.37c-.4-.4-.92-.59-1.43-.59-.52 0-1.04.2-1.43.59L10.3 9.45l-7.72 7.72c-.78.78-.78 2.05 0 2.83L4 21.41c.39.39.9.59 1.41.59.51 0 1.02-.2 1.41-.59l7.78-7.78 2.81-2.81c.8-.78.8-2.07 0-2.86zM5.41 20L4 18.59l7.72-7.72 1.47 1.35L5.41 20z\"/>\n",
              "  </svg>\n",
              "      </button>\n",
              "      \n",
              "  <style>\n",
              "    .colab-df-container {\n",
              "      display:flex;\n",
              "      flex-wrap:wrap;\n",
              "      gap: 12px;\n",
              "    }\n",
              "\n",
              "    .colab-df-convert {\n",
              "      background-color: #E8F0FE;\n",
              "      border: none;\n",
              "      border-radius: 50%;\n",
              "      cursor: pointer;\n",
              "      display: none;\n",
              "      fill: #1967D2;\n",
              "      height: 32px;\n",
              "      padding: 0 0 0 0;\n",
              "      width: 32px;\n",
              "    }\n",
              "\n",
              "    .colab-df-convert:hover {\n",
              "      background-color: #E2EBFA;\n",
              "      box-shadow: 0px 1px 2px rgba(60, 64, 67, 0.3), 0px 1px 3px 1px rgba(60, 64, 67, 0.15);\n",
              "      fill: #174EA6;\n",
              "    }\n",
              "\n",
              "    [theme=dark] .colab-df-convert {\n",
              "      background-color: #3B4455;\n",
              "      fill: #D2E3FC;\n",
              "    }\n",
              "\n",
              "    [theme=dark] .colab-df-convert:hover {\n",
              "      background-color: #434B5C;\n",
              "      box-shadow: 0px 1px 3px 1px rgba(0, 0, 0, 0.15);\n",
              "      filter: drop-shadow(0px 1px 2px rgba(0, 0, 0, 0.3));\n",
              "      fill: #FFFFFF;\n",
              "    }\n",
              "  </style>\n",
              "\n",
              "      <script>\n",
              "        const buttonEl =\n",
              "          document.querySelector('#df-e60600d7-a81c-4c38-b27f-9209c850a26c button.colab-df-convert');\n",
              "        buttonEl.style.display =\n",
              "          google.colab.kernel.accessAllowed ? 'block' : 'none';\n",
              "\n",
              "        async function convertToInteractive(key) {\n",
              "          const element = document.querySelector('#df-e60600d7-a81c-4c38-b27f-9209c850a26c');\n",
              "          const dataTable =\n",
              "            await google.colab.kernel.invokeFunction('convertToInteractive',\n",
              "                                                     [key], {});\n",
              "          if (!dataTable) return;\n",
              "\n",
              "          const docLinkHtml = 'Like what you see? Visit the ' +\n",
              "            '<a target=\"_blank\" href=https://colab.research.google.com/notebooks/data_table.ipynb>data table notebook</a>'\n",
              "            + ' to learn more about interactive tables.';\n",
              "          element.innerHTML = '';\n",
              "          dataTable['output_type'] = 'display_data';\n",
              "          await google.colab.output.renderOutput(dataTable, element);\n",
              "          const docLink = document.createElement('div');\n",
              "          docLink.innerHTML = docLinkHtml;\n",
              "          element.appendChild(docLink);\n",
              "        }\n",
              "      </script>\n",
              "    </div>\n",
              "  </div>\n",
              "  "
            ]
          },
          "metadata": {},
          "execution_count": 4
        }
      ],
      "source": [
        "labels"
      ]
    },
    {
      "cell_type": "markdown",
      "metadata": {
        "id": "VUBOVQZph45E"
      },
      "source": [
        "Split data"
      ]
    },
    {
      "cell_type": "code",
      "execution_count": 5,
      "metadata": {
        "id": "NNmmoJHMaoWz"
      },
      "outputs": [],
      "source": [
        "X_train, X_test, y_train, y_test = train_test_split(df, labels, test_size=0.2, random_state=1)"
      ]
    },
    {
      "cell_type": "markdown",
      "metadata": {
        "id": "Be9saNjXh7Ch"
      },
      "source": [
        "Create model"
      ]
    },
    {
      "cell_type": "code",
      "execution_count": 6,
      "metadata": {
        "id": "Icfnwfhvh6k1"
      },
      "outputs": [],
      "source": [
        "model = XGBClassifier(\n",
        "              colsample_bytree=1, \n",
        "              eval_metric='auc',\n",
        "              learning_rate=0.1,\n",
        "              max_depth=4,\n",
        "              n_estimators=200,\n",
        "              random_seed=123,\n",
        "              subsample=0.5,\n",
        "              verbosity=1)"
      ]
    },
    {
      "cell_type": "code",
      "execution_count": 10,
      "metadata": {
        "colab": {
          "base_uri": "https://localhost:8080/"
        },
        "id": "l0qca-vJjmjM",
        "outputId": "4fdc1afa-3be5-49e3-b32b-8e748445d029"
      },
      "outputs": [
        {
          "output_type": "execute_result",
          "data": {
            "text/plain": [
              "{'base_score': 0.5,\n",
              " 'booster': 'gbtree',\n",
              " 'colsample_bylevel': 1,\n",
              " 'colsample_bynode': 1,\n",
              " 'colsample_bytree': 1,\n",
              " 'eval_metric': 'auc',\n",
              " 'gamma': 0,\n",
              " 'learning_rate': 0.1,\n",
              " 'max_delta_step': 0,\n",
              " 'max_depth': 4,\n",
              " 'min_child_weight': 1,\n",
              " 'missing': None,\n",
              " 'n_estimators': 200,\n",
              " 'n_jobs': 1,\n",
              " 'nthread': None,\n",
              " 'objective': 'binary:logistic',\n",
              " 'random_seed': 123,\n",
              " 'random_state': 0,\n",
              " 'reg_alpha': 0,\n",
              " 'reg_lambda': 1,\n",
              " 'scale_pos_weight': 1,\n",
              " 'seed': None,\n",
              " 'silent': None,\n",
              " 'subsample': 0.5,\n",
              " 'verbosity': 1}"
            ]
          },
          "metadata": {},
          "execution_count": 10
        }
      ],
      "source": [
        "model.get_params()"
      ]
    },
    {
      "cell_type": "code",
      "execution_count": 7,
      "metadata": {
        "colab": {
          "base_uri": "https://localhost:8080/"
        },
        "id": "4fQwzg2_iHuS",
        "outputId": "53a9e79a-8883-469f-9002-d5cf57ba65be"
      },
      "outputs": [
        {
          "output_type": "execute_result",
          "data": {
            "text/plain": [
              "XGBClassifier(eval_metric='auc', max_depth=4, n_estimators=200, random_seed=123,\n",
              "              subsample=0.5)"
            ]
          },
          "metadata": {},
          "execution_count": 7
        }
      ],
      "source": [
        "model.fit(X_train, y_train.values.ravel())"
      ]
    },
    {
      "cell_type": "code",
      "execution_count": 12,
      "metadata": {
        "colab": {
          "base_uri": "https://localhost:8080/"
        },
        "id": "W3Nu3dcqkRZ7",
        "outputId": "be3d2426-fd6e-4d78-f6df-460983b45a73"
      },
      "outputs": [
        {
          "output_type": "stream",
          "name": "stdout",
          "text": [
            "accuracy on training set:  0.7604682416183336\n",
            "accuracy on test set:  0.7567720489426409\n"
          ]
        }
      ],
      "source": [
        "y_prediction_train = model.predict(X_train)\n",
        "accuracy_train = accuracy_score(y_train.values.ravel(), y_prediction_train)\n",
        "print(\"accuracy on training set: \", accuracy_train)\n",
        "\n",
        "y_prediction = model.predict(X_test)\n",
        "accuracy = accuracy_score(y_test.values.ravel(), y_prediction)\n",
        "print(\"accuracy on test set: \", accuracy)"
      ]
    },
    {
      "cell_type": "code",
      "execution_count": 17,
      "metadata": {
        "id": "4oCgeTVhm3cT",
        "colab": {
          "base_uri": "https://localhost:8080/"
        },
        "outputId": "ed63f961-f200-41a0-e49d-fa675f11b547"
      },
      "outputs": [
        {
          "output_type": "stream",
          "name": "stdout",
          "text": [
            "precision:  [0.49501379 0.73310634 1.        ]  recall:  [1.         0.79982855 0.        ]\n"
          ]
        }
      ],
      "source": [
        "precision, recall, _ = precision_recall_curve(y_test.values.ravel(), y_prediction)\n",
        "auc_xg = auc(recall, precision)\n",
        "print(\"precision: \", precision, \" recall: \", recall)"
      ]
    },
    {
      "cell_type": "code",
      "execution_count": 18,
      "metadata": {
        "colab": {
          "base_uri": "https://localhost:8080/",
          "height": 304
        },
        "id": "pmn9K_4rnH3i",
        "outputId": "0123828b-aeed-48a4-b5c0-0769fd8489dd"
      },
      "outputs": [
        {
          "output_type": "display_data",
          "data": {
            "text/plain": [
              "<Figure size 432x288 with 1 Axes>"
            ],
            "image/png": "[encoded data removed]"
          },
          "metadata": {
            "needs_background": "light"
          }
        }
      ],
      "source": [
        "plt.plot(recall, precision, label=f'AUC (XGBoost) = {auc_xg:.2f}')\n",
        "plt.title('Precision-Recall Curve', size=20)\n",
        "plt.xlabel('Recall', size=14)\n",
        "plt.ylabel('Precision', size=14)\n",
        "plt.legend();"
      ]
    },
    {
      "cell_type": "code",
      "execution_count": null,
      "metadata": {
        "colab": {
          "base_uri": "https://localhost:8080/",
          "height": 337
        },
        "id": "_HpayPl-n4db",
        "outputId": "a84875b4-9c9b-49b8-9168-ad6f6c2f746b"
      },
      "outputs": [
        {
          "output_type": "display_data",
          "data": {
            "text/plain": [
              "<Figure size 432x288 with 2 Axes>"
            ],
            "image/png": "[encoded data removed]"
          },
          "metadata": {
            "needs_background": "light"
          }
        }
      ],
      "source": [
        "cf_matrix = confusion_matrix(y_test.values.ravel(), y_prediction)\n",
        "ax = sns.heatmap(cf_matrix, annot=True, cmap='Blues')\n",
        "\n",
        "ax.set_title('Confusion Matrix with labels\\n\\n');\n",
        "ax.set_xlabel('\\nPredicted Values')\n",
        "ax.set_ylabel('Actual Values ');\n",
        "\n",
        "## Ticket labels - List must be in alphabetical order\n",
        "ax.xaxis.set_ticklabels(['False','True'])\n",
        "ax.yaxis.set_ticklabels(['False','True'])\n",
        "\n",
        "## Display the visualization of the Confusion Matrix.\n",
        "plt.show()"
      ]
    },
    {
      "cell_type": "markdown",
      "metadata": {
        "id": "-5FaPgTaww_3"
      },
      "source": [
        "## Hyperparamtere Tuning"
      ]
    },
    {
      "cell_type": "code",
      "execution_count": null,
      "metadata": {
        "colab": {
          "base_uri": "https://localhost:8080/"
        },
        "id": "jnTLODWFw0uG",
        "outputId": "5a4e38a8-47d4-4e45-cf4c-48265379b215"
      },
      "outputs": [
        {
          "output_type": "execute_result",
          "data": {
            "text/plain": [
              "{'base_score': 0.5,\n",
              " 'booster': 'gbtree',\n",
              " 'colsample_bylevel': 1,\n",
              " 'colsample_bynode': 1,\n",
              " 'colsample_bytree': 1,\n",
              " 'eval_metric': 'auc',\n",
              " 'gamma': 0,\n",
              " 'learning_rate': 0.1,\n",
              " 'max_delta_step': 0,\n",
              " 'max_depth': 4,\n",
              " 'min_child_weight': 1,\n",
              " 'missing': None,\n",
              " 'n_estimators': 200,\n",
              " 'n_jobs': 1,\n",
              " 'nthread': None,\n",
              " 'objective': 'binary:logistic',\n",
              " 'random_seed': 123,\n",
              " 'random_state': 0,\n",
              " 'reg_alpha': 0,\n",
              " 'reg_lambda': 1,\n",
              " 'scale_pos_weight': 1,\n",
              " 'seed': None,\n",
              " 'silent': None,\n",
              " 'subsample': 0.5,\n",
              " 'verbosity': 1}"
            ]
          },
          "metadata": {},
          "execution_count": 16
        }
      ],
      "source": [
        "model.get_params()"
      ]
    },
    {
      "cell_type": "code",
      "execution_count": 8,
      "metadata": {
        "id": "V01acpY8pqRq"
      },
      "outputs": [],
      "source": [
        "def my_roc_auc_score(model, X, y): \n",
        "  return roc_auc_score(y, model.predict_proba(X)[:,1])"
      ]
    },
    {
      "cell_type": "markdown",
      "metadata": {
        "id": "ZO_vMj1Osape"
      },
      "source": [
        "Create `GridSeachCV` model"
      ]
    },
    {
      "cell_type": "code",
      "execution_count": 13,
      "metadata": {
        "id": "_I4piLnYqziK"
      },
      "outputs": [],
      "source": [
        "parameters = {'learning_rate': [0.02, 0.05, 0.1, 0.3],\n",
        "              'max_depth': [2, 3, 4],\n",
        "              'n_estimators' : [100, 200, 300],\n",
        "              'colsample_bytree': [0.8, 1]}\n",
        "\n",
        "clf = GridSearchCV(model, \n",
        "                   parameters,\n",
        "                   cv=3, \n",
        "                   scoring=my_roc_auc_score)"
      ]
    },
    {
      "cell_type": "code",
      "execution_count": null,
      "metadata": {
        "colab": {
          "base_uri": "https://localhost:8080/"
        },
        "id": "fDGF-u5QsE_f",
        "outputId": "0ef35cb5-0441-4e88-c529-ed4da6d50ee1"
      },
      "outputs": [
        {
          "output_type": "execute_result",
          "data": {
            "text/plain": [
              "GridSearchCV(cv=3,\n",
              "             estimator=XGBClassifier(eval_metric='auc', max_depth=4,\n",
              "                                     n_estimators=200, random_seed=123,\n",
              "                                     subsample=0.5),\n",
              "             param_grid={'colsample_bytree': [0.8, 1],\n",
              "                         'learning_rate': [0.02, 0.05, 0.1, 0.3],\n",
              "                         'max_depth': [2, 3, 4],\n",
              "                         'n_estimators': [100, 200, 300]},\n",
              "             scoring=<function my_roc_auc_score at 0x7f6eba3170e0>)"
            ]
          },
          "metadata": {},
          "execution_count": 19
        }
      ],
      "source": [
        "clf.fit(X_train, y_train.values.ravel())"
      ]
    },
    {
      "cell_type": "markdown",
      "metadata": {
        "id": "qC2SbgfewoVw"
      },
      "source": [
        "Save parameters"
      ]
    },
    {
      "cell_type": "code",
      "execution_count": null,
      "metadata": {
        "id": "Bdv-Z86swUXX"
      },
      "outputs": [],
      "source": [
        "file_to_store = open(base_path + \"clf.pickle\", \"wb\")\n",
        "pickle.dump(clf, file_to_store)\n",
        "file_to_store.close()"
      ]
    },
    {
      "cell_type": "markdown",
      "metadata": {
        "id": "1cFMKz0mwqyS"
      },
      "source": [
        "Load parameters"
      ]
    },
    {
      "cell_type": "code",
      "execution_count": 9,
      "metadata": {
        "id": "9iXfaDozwjx4"
      },
      "outputs": [],
      "source": [
        "file_to_read = open(base_path + \"clf.pickle\", \"rb\")\n",
        "clf = pickle.load(file_to_read)\n",
        "file_to_read.close()"
      ]
    },
    {
      "cell_type": "code",
      "source": [
        "best_parameters = clf.best_params_\n",
        "best_score = clf.best_score_\n",
        "print(\"best parametrs: \", best_parameters)\n",
        "print(\"best score: \", best_score)"
      ],
      "metadata": {
        "colab": {
          "base_uri": "https://localhost:8080/"
        },
        "id": "5GlQpZeR3psH",
        "outputId": "373b4c11-0ea6-4339-eb0a-60c9734205e1"
      },
      "execution_count": 6,
      "outputs": [
        {
          "output_type": "stream",
          "name": "stdout",
          "text": [
            "best parametrs:  {'colsample_bytree': 0.8, 'learning_rate': 0.05, 'max_depth': 4, 'n_estimators': 200}\n",
            "best score:  0.8288730561805199\n"
          ]
        }
      ]
    },
    {
      "cell_type": "code",
      "source": [
        "y_pred = model.predict(X_test)\n",
        "accuracy = accuracy_score(y_test.values.ravel(), y_pred)\n",
        "print(\"accuracy on test set: \", accuracy)"
      ],
      "metadata": {
        "colab": {
          "base_uri": "https://localhost:8080/"
        },
        "id": "wZNSJO3z3s_7",
        "outputId": "2a65bf81-f1dc-45e1-9175-519267c7723d"
      },
      "execution_count": 19,
      "outputs": [
        {
          "output_type": "stream",
          "name": "stdout",
          "text": [
            "accuracy on test set:  0.7567720489426409\n"
          ]
        }
      ]
    },
    {
      "cell_type": "code",
      "source": [
        "# recall/precision\n",
        "precision, recall, _ = precision_recall_curve(y_test.values.ravel(), y_pred)\n",
        "auc_xg = auc(recall, precision)\n",
        "print(\"precision: \", precision, \" recall: \", recall)\n",
        "plt.plot(recall, precision, label=f'AUC (XGBoost) = {auc_xg:.2f}')\n",
        "plt.title('Precision-Recall Curve', size=20)\n",
        "plt.xlabel('Recall', size=14)\n",
        "plt.ylabel('Precision', size=14)\n",
        "plt.legend();"
      ],
      "metadata": {
        "colab": {
          "base_uri": "https://localhost:8080/",
          "height": 322
        },
        "id": "ItxNc2co3wWM",
        "outputId": "4f0228d2-a771-4755-85e7-62f2a0b6494f"
      },
      "execution_count": null,
      "outputs": [
        {
          "output_type": "stream",
          "name": "stdout",
          "text": [
            "precision:  [0.49501379 0.73310634 1.        ]  recall:  [1.         0.79982855 0.        ]\n"
          ]
        },
        {
          "output_type": "display_data",
          "data": {
            "text/plain": [
              "<Figure size 432x288 with 1 Axes>"
            ],
            "image/png": "[encoded data removed]"
          },
          "metadata": {
            "needs_background": "light"
          }
        }
      ]
    },
    {
      "cell_type": "code",
      "source": [
        "# confsion matrix\n",
        "cf_matrix = confusion_matrix(y_test.values.ravel(), y_pred)\n",
        "ax = sns.heatmap(cf_matrix, annot=True, cmap='Blues')\n",
        "\n",
        "ax.set_title('Confusion Matrix with labels\\n\\n');\n",
        "ax.set_xlabel('\\nPredicted Values')\n",
        "ax.set_ylabel('Actual Values ');\n",
        "\n",
        "## Ticket labels - List must be in alphabetical order\n",
        "ax.xaxis.set_ticklabels(['False','True'])\n",
        "ax.yaxis.set_ticklabels(['False','True'])\n",
        "\n",
        "## Display the visualization of the Confusion Matrix.\n",
        "plt.show()"
      ],
      "metadata": {
        "colab": {
          "base_uri": "https://localhost:8080/",
          "height": 337
        },
        "id": "WBRxifJQ_EhI",
        "outputId": "1e009fb8-cf9f-4df9-b9a5-089bea8f6a76"
      },
      "execution_count": null,
      "outputs": [
        {
          "output_type": "display_data",
          "data": {
            "text/plain": [
              "<Figure size 432x288 with 2 Axes>"
            ],
            "image/png": "[encoded data removed]"
          },
          "metadata": {
            "needs_background": "light"
          }
        }
      ]
    },
    {
      "cell_type": "markdown",
      "metadata": {
        "id": "ZtYrDGrdw3ki"
      },
      "source": [
        "## Visualization"
      ]
    },
    {
      "cell_type": "code",
      "execution_count": 10,
      "metadata": {
        "id": "E8NCIxaBw8v7",
        "colab": {
          "base_uri": "https://localhost:8080/"
        },
        "outputId": "6fe90614-242c-4d3c-c293-3e2e117159a8"
      },
      "outputs": [
        {
          "output_type": "execute_result",
          "data": {
            "text/plain": [
              "[{'colsample_bytree': 0.8,\n",
              "  'learning_rate': 0.02,\n",
              "  'max_depth': 2,\n",
              "  'n_estimators': 100},\n",
              " {'colsample_bytree': 0.8,\n",
              "  'learning_rate': 0.02,\n",
              "  'max_depth': 2,\n",
              "  'n_estimators': 200},\n",
              " {'colsample_bytree': 0.8,\n",
              "  'learning_rate': 0.02,\n",
              "  'max_depth': 2,\n",
              "  'n_estimators': 300},\n",
              " {'colsample_bytree': 0.8,\n",
              "  'learning_rate': 0.02,\n",
              "  'max_depth': 3,\n",
              "  'n_estimators': 100},\n",
              " {'colsample_bytree': 0.8,\n",
              "  'learning_rate': 0.02,\n",
              "  'max_depth': 3,\n",
              "  'n_estimators': 200},\n",
              " {'colsample_bytree': 0.8,\n",
              "  'learning_rate': 0.02,\n",
              "  'max_depth': 3,\n",
              "  'n_estimators': 300},\n",
              " {'colsample_bytree': 0.8,\n",
              "  'learning_rate': 0.02,\n",
              "  'max_depth': 4,\n",
              "  'n_estimators': 100},\n",
              " {'colsample_bytree': 0.8,\n",
              "  'learning_rate': 0.02,\n",
              "  'max_depth': 4,\n",
              "  'n_estimators': 200},\n",
              " {'colsample_bytree': 0.8,\n",
              "  'learning_rate': 0.02,\n",
              "  'max_depth': 4,\n",
              "  'n_estimators': 300},\n",
              " {'colsample_bytree': 0.8,\n",
              "  'learning_rate': 0.05,\n",
              "  'max_depth': 2,\n",
              "  'n_estimators': 100},\n",
              " {'colsample_bytree': 0.8,\n",
              "  'learning_rate': 0.05,\n",
              "  'max_depth': 2,\n",
              "  'n_estimators': 200},\n",
              " {'colsample_bytree': 0.8,\n",
              "  'learning_rate': 0.05,\n",
              "  'max_depth': 2,\n",
              "  'n_estimators': 300},\n",
              " {'colsample_bytree': 0.8,\n",
              "  'learning_rate': 0.05,\n",
              "  'max_depth': 3,\n",
              "  'n_estimators': 100},\n",
              " {'colsample_bytree': 0.8,\n",
              "  'learning_rate': 0.05,\n",
              "  'max_depth': 3,\n",
              "  'n_estimators': 200},\n",
              " {'colsample_bytree': 0.8,\n",
              "  'learning_rate': 0.05,\n",
              "  'max_depth': 3,\n",
              "  'n_estimators': 300},\n",
              " {'colsample_bytree': 0.8,\n",
              "  'learning_rate': 0.05,\n",
              "  'max_depth': 4,\n",
              "  'n_estimators': 100},\n",
              " {'colsample_bytree': 0.8,\n",
              "  'learning_rate': 0.05,\n",
              "  'max_depth': 4,\n",
              "  'n_estimators': 200},\n",
              " {'colsample_bytree': 0.8,\n",
              "  'learning_rate': 0.05,\n",
              "  'max_depth': 4,\n",
              "  'n_estimators': 300},\n",
              " {'colsample_bytree': 0.8,\n",
              "  'learning_rate': 0.1,\n",
              "  'max_depth': 2,\n",
              "  'n_estimators': 100},\n",
              " {'colsample_bytree': 0.8,\n",
              "  'learning_rate': 0.1,\n",
              "  'max_depth': 2,\n",
              "  'n_estimators': 200},\n",
              " {'colsample_bytree': 0.8,\n",
              "  'learning_rate': 0.1,\n",
              "  'max_depth': 2,\n",
              "  'n_estimators': 300},\n",
              " {'colsample_bytree': 0.8,\n",
              "  'learning_rate': 0.1,\n",
              "  'max_depth': 3,\n",
              "  'n_estimators': 100},\n",
              " {'colsample_bytree': 0.8,\n",
              "  'learning_rate': 0.1,\n",
              "  'max_depth': 3,\n",
              "  'n_estimators': 200},\n",
              " {'colsample_bytree': 0.8,\n",
              "  'learning_rate': 0.1,\n",
              "  'max_depth': 3,\n",
              "  'n_estimators': 300},\n",
              " {'colsample_bytree': 0.8,\n",
              "  'learning_rate': 0.1,\n",
              "  'max_depth': 4,\n",
              "  'n_estimators': 100},\n",
              " {'colsample_bytree': 0.8,\n",
              "  'learning_rate': 0.1,\n",
              "  'max_depth': 4,\n",
              "  'n_estimators': 200},\n",
              " {'colsample_bytree': 0.8,\n",
              "  'learning_rate': 0.1,\n",
              "  'max_depth': 4,\n",
              "  'n_estimators': 300},\n",
              " {'colsample_bytree': 0.8,\n",
              "  'learning_rate': 0.3,\n",
              "  'max_depth': 2,\n",
              "  'n_estimators': 100},\n",
              " {'colsample_bytree': 0.8,\n",
              "  'learning_rate': 0.3,\n",
              "  'max_depth': 2,\n",
              "  'n_estimators': 200},\n",
              " {'colsample_bytree': 0.8,\n",
              "  'learning_rate': 0.3,\n",
              "  'max_depth': 2,\n",
              "  'n_estimators': 300},\n",
              " {'colsample_bytree': 0.8,\n",
              "  'learning_rate': 0.3,\n",
              "  'max_depth': 3,\n",
              "  'n_estimators': 100},\n",
              " {'colsample_bytree': 0.8,\n",
              "  'learning_rate': 0.3,\n",
              "  'max_depth': 3,\n",
              "  'n_estimators': 200},\n",
              " {'colsample_bytree': 0.8,\n",
              "  'learning_rate': 0.3,\n",
              "  'max_depth': 3,\n",
              "  'n_estimators': 300},\n",
              " {'colsample_bytree': 0.8,\n",
              "  'learning_rate': 0.3,\n",
              "  'max_depth': 4,\n",
              "  'n_estimators': 100},\n",
              " {'colsample_bytree': 0.8,\n",
              "  'learning_rate': 0.3,\n",
              "  'max_depth': 4,\n",
              "  'n_estimators': 200},\n",
              " {'colsample_bytree': 0.8,\n",
              "  'learning_rate': 0.3,\n",
              "  'max_depth': 4,\n",
              "  'n_estimators': 300},\n",
              " {'colsample_bytree': 1,\n",
              "  'learning_rate': 0.02,\n",
              "  'max_depth': 2,\n",
              "  'n_estimators': 100},\n",
              " {'colsample_bytree': 1,\n",
              "  'learning_rate': 0.02,\n",
              "  'max_depth': 2,\n",
              "  'n_estimators': 200},\n",
              " {'colsample_bytree': 1,\n",
              "  'learning_rate': 0.02,\n",
              "  'max_depth': 2,\n",
              "  'n_estimators': 300},\n",
              " {'colsample_bytree': 1,\n",
              "  'learning_rate': 0.02,\n",
              "  'max_depth': 3,\n",
              "  'n_estimators': 100},\n",
              " {'colsample_bytree': 1,\n",
              "  'learning_rate': 0.02,\n",
              "  'max_depth': 3,\n",
              "  'n_estimators': 200},\n",
              " {'colsample_bytree': 1,\n",
              "  'learning_rate': 0.02,\n",
              "  'max_depth': 3,\n",
              "  'n_estimators': 300},\n",
              " {'colsample_bytree': 1,\n",
              "  'learning_rate': 0.02,\n",
              "  'max_depth': 4,\n",
              "  'n_estimators': 100},\n",
              " {'colsample_bytree': 1,\n",
              "  'learning_rate': 0.02,\n",
              "  'max_depth': 4,\n",
              "  'n_estimators': 200},\n",
              " {'colsample_bytree': 1,\n",
              "  'learning_rate': 0.02,\n",
              "  'max_depth': 4,\n",
              "  'n_estimators': 300},\n",
              " {'colsample_bytree': 1,\n",
              "  'learning_rate': 0.05,\n",
              "  'max_depth': 2,\n",
              "  'n_estimators': 100},\n",
              " {'colsample_bytree': 1,\n",
              "  'learning_rate': 0.05,\n",
              "  'max_depth': 2,\n",
              "  'n_estimators': 200},\n",
              " {'colsample_bytree': 1,\n",
              "  'learning_rate': 0.05,\n",
              "  'max_depth': 2,\n",
              "  'n_estimators': 300},\n",
              " {'colsample_bytree': 1,\n",
              "  'learning_rate': 0.05,\n",
              "  'max_depth': 3,\n",
              "  'n_estimators': 100},\n",
              " {'colsample_bytree': 1,\n",
              "  'learning_rate': 0.05,\n",
              "  'max_depth': 3,\n",
              "  'n_estimators': 200},\n",
              " {'colsample_bytree': 1,\n",
              "  'learning_rate': 0.05,\n",
              "  'max_depth': 3,\n",
              "  'n_estimators': 300},\n",
              " {'colsample_bytree': 1,\n",
              "  'learning_rate': 0.05,\n",
              "  'max_depth': 4,\n",
              "  'n_estimators': 100},\n",
              " {'colsample_bytree': 1,\n",
              "  'learning_rate': 0.05,\n",
              "  'max_depth': 4,\n",
              "  'n_estimators': 200},\n",
              " {'colsample_bytree': 1,\n",
              "  'learning_rate': 0.05,\n",
              "  'max_depth': 4,\n",
              "  'n_estimators': 300},\n",
              " {'colsample_bytree': 1,\n",
              "  'learning_rate': 0.1,\n",
              "  'max_depth': 2,\n",
              "  'n_estimators': 100},\n",
              " {'colsample_bytree': 1,\n",
              "  'learning_rate': 0.1,\n",
              "  'max_depth': 2,\n",
              "  'n_estimators': 200},\n",
              " {'colsample_bytree': 1,\n",
              "  'learning_rate': 0.1,\n",
              "  'max_depth': 2,\n",
              "  'n_estimators': 300},\n",
              " {'colsample_bytree': 1,\n",
              "  'learning_rate': 0.1,\n",
              "  'max_depth': 3,\n",
              "  'n_estimators': 100},\n",
              " {'colsample_bytree': 1,\n",
              "  'learning_rate': 0.1,\n",
              "  'max_depth': 3,\n",
              "  'n_estimators': 200},\n",
              " {'colsample_bytree': 1,\n",
              "  'learning_rate': 0.1,\n",
              "  'max_depth': 3,\n",
              "  'n_estimators': 300},\n",
              " {'colsample_bytree': 1,\n",
              "  'learning_rate': 0.1,\n",
              "  'max_depth': 4,\n",
              "  'n_estimators': 100},\n",
              " {'colsample_bytree': 1,\n",
              "  'learning_rate': 0.1,\n",
              "  'max_depth': 4,\n",
              "  'n_estimators': 200},\n",
              " {'colsample_bytree': 1,\n",
              "  'learning_rate': 0.1,\n",
              "  'max_depth': 4,\n",
              "  'n_estimators': 300},\n",
              " {'colsample_bytree': 1,\n",
              "  'learning_rate': 0.3,\n",
              "  'max_depth': 2,\n",
              "  'n_estimators': 100},\n",
              " {'colsample_bytree': 1,\n",
              "  'learning_rate': 0.3,\n",
              "  'max_depth': 2,\n",
              "  'n_estimators': 200},\n",
              " {'colsample_bytree': 1,\n",
              "  'learning_rate': 0.3,\n",
              "  'max_depth': 2,\n",
              "  'n_estimators': 300},\n",
              " {'colsample_bytree': 1,\n",
              "  'learning_rate': 0.3,\n",
              "  'max_depth': 3,\n",
              "  'n_estimators': 100},\n",
              " {'colsample_bytree': 1,\n",
              "  'learning_rate': 0.3,\n",
              "  'max_depth': 3,\n",
              "  'n_estimators': 200},\n",
              " {'colsample_bytree': 1,\n",
              "  'learning_rate': 0.3,\n",
              "  'max_depth': 3,\n",
              "  'n_estimators': 300},\n",
              " {'colsample_bytree': 1,\n",
              "  'learning_rate': 0.3,\n",
              "  'max_depth': 4,\n",
              "  'n_estimators': 100},\n",
              " {'colsample_bytree': 1,\n",
              "  'learning_rate': 0.3,\n",
              "  'max_depth': 4,\n",
              "  'n_estimators': 200},\n",
              " {'colsample_bytree': 1,\n",
              "  'learning_rate': 0.3,\n",
              "  'max_depth': 4,\n",
              "  'n_estimators': 300}]"
            ]
          },
          "metadata": {},
          "execution_count": 10
        }
      ],
      "source": [
        "clf.cv_results_[\"params\"]"
      ]
    },
    {
      "cell_type": "markdown",
      "source": [
        "`Learning rate` and `n_estimator`"
      ],
      "metadata": {
        "id": "PSPeUadlNImY"
      }
    },
    {
      "cell_type": "code",
      "source": [
        "params = clf.cv_results_[\"params\"]\n",
        "mean_test_score = clf.cv_results_['mean_test_score']\n",
        "\n",
        "nestimator_learningrate = {100: {0.02:_, 0.05:_, 0.1:_, 0.3:_}, 200: {0.02:_, 0.05:_, 0.1:_, 0.3:_}, 300:{0.02:_, 0.05:_, 0.1:_, 0.3:_}}\n",
        "other_params = {\"max_depth\": 4, \"colsample_bytree\": 0.8}\n",
        "\n",
        "for index, params in enumerate(params):\n",
        "  if params[\"max_depth\"] == other_params[\"max_depth\"] and params[\"colsample_bytree\"] == other_params[\"colsample_bytree\"]:\n",
        "    learning_rate, n_estimators = params[\"learning_rate\"], params[\"n_estimators\"]\n",
        "    nestimator_learningrate[n_estimators][learning_rate] = mean_test_score[index]\n",
        "\n",
        "for n_estimator, learning_rate_score in nestimator_learningrate.items():\n",
        "  learningrates = list(nestimator_learningrate[n_estimator].keys())\n",
        "  scores = list(nestimator_learningrate[n_estimator].values())\n",
        "  plt.plot(learningrates, scores)\n",
        "\n",
        "plt.legend(['n_estimator = 100', 'n_estimator = 200', 'n_estimator = 300'])\n",
        "plt.xlabel('Learning_rate')\n",
        "plt.ylabel('score')\n",
        "plt.title('Learning rate & n_estimator')\n",
        "plt.xticks(learningrates)\n",
        "plt.show()"
      ],
      "metadata": {
        "colab": {
          "base_uri": "https://localhost:8080/",
          "height": 296
        },
        "id": "c2QyGm2A5ZFj",
        "outputId": "16ed5fc9-fa93-43b2-8288-598d7bc6758b"
      },
      "execution_count": 17,
      "outputs": [
        {
          "output_type": "display_data",
          "data": {
            "text/plain": [
              "<Figure size 432x288 with 1 Axes>"
            ],
            "image/png": "[encoded data removed]"
          },
          "metadata": {
            "needs_background": "light"
          }
        }
      ]
    },
    {
      "cell_type": "markdown",
      "source": [
        "`Learning rate` and `max_depth`"
      ],
      "metadata": {
        "id": "kE5hM_LcLcYp"
      }
    },
    {
      "cell_type": "code",
      "source": [
        "params = clf.cv_results_[\"params\"]\n",
        "mean_test_score = clf.cv_results_['mean_test_score']\n",
        "\n",
        "maxdepth_learningrate = {2: {0.02:_, 0.05:_, 0.1:_, 0.3:_}, 3: {0.02:_, 0.05:_, 0.1:_, 0.3:_}, 4: {0.02:_, 0.05:_, 0.1:_, 0.3:_}}\n",
        "other_params = {\"n_estimators\": 200, \"colsample_bytree\": 0.8}\n",
        "\n",
        "for index, params in enumerate(params):\n",
        "  if params[\"n_estimators\"] == other_params[\"n_estimators\"] and params[\"colsample_bytree\"] == other_params[\"colsample_bytree\"]:\n",
        "    learning_rate, max_depth = params[\"learning_rate\"], params[\"max_depth\"]\n",
        "    maxdepth_learningrate[max_depth][learning_rate] = mean_test_score[index]\n",
        "\n",
        "for max_depth, learning_rate_score in maxdepth_learningrate.items():\n",
        "  learning_rates = list(maxdepth_learningrate[max_depth].keys())\n",
        "  scores = list(maxdepth_learningrate[max_depth].values())\n",
        "  plt.plot()\n",
        "  plt.plot(learning_rates, scores)\n",
        "\n",
        "plt.legend(['max_depth = 2', 'max_depth = 3', 'max_depth = 4'])\n",
        "plt.xlabel('Learning_rate')\n",
        "plt.ylabel('score')\n",
        "plt.title('Learning rate & max_depth')\n",
        "plt.xticks(learning_rates)\n",
        "plt.show()"
      ],
      "metadata": {
        "colab": {
          "base_uri": "https://localhost:8080/",
          "height": 296
        },
        "id": "XMSimq0Z9HTm",
        "outputId": "e80c4ee0-041f-43b6-fd0d-fbce9d9fcc07"
      },
      "execution_count": 19,
      "outputs": [
        {
          "output_type": "display_data",
          "data": {
            "text/plain": [
              "<Figure size 432x288 with 1 Axes>"
            ],
            "image/png": "[encoded data removed]"
          },
          "metadata": {
            "needs_background": "light"
          }
        }
      ]
    },
    {
      "cell_type": "markdown",
      "source": [
        "here we can see that `max_depth = 4` and `learning rate = 0.05` is the best model"
      ],
      "metadata": {
        "id": "hRdp61KA_kFH"
      }
    },
    {
      "cell_type": "markdown",
      "source": [
        "`Learning rate` and `colsample_bytree`"
      ],
      "metadata": {
        "id": "gDU7wFFbNNBj"
      }
    },
    {
      "cell_type": "code",
      "source": [
        "params = clf.cv_results_[\"params\"]\n",
        "mean_test_score = clf.cv_results_['mean_test_score']\n",
        "\n",
        "learningrate_colsamplebytree = {0.02: {0.8:_, 1:_}, 0.05: {0.8:_, 1:_}, 0.1: {0.8:_, 1:_}, 0.3: {0.8:_, 1:_}}\n",
        "other_params = {\"max_depth\": 4, \"n_estimators\": 200}\n",
        "\n",
        "for index, params in enumerate(params):\n",
        "  if params[\"max_depth\"] == other_params[\"max_depth\"] and params[\"n_estimators\"] == other_params[\"n_estimators\"]:\n",
        "    learning_rate, colsample_bytree = params[\"learning_rate\"], params[\"colsample_bytree\"]\n",
        "    learningrate_colsamplebytree[learning_rate][colsample_bytree] = mean_test_score[index]\n",
        "\n",
        "for learning_rate, colsample_bytree_score in learningrate_colsamplebytree.items():\n",
        "  colsample_bytree = list(learningrate_colsamplebytree[learning_rate].keys())\n",
        "  scores = list(learningrate_colsamplebytree[learning_rate].values())\n",
        "  plt.plot(colsample_bytree, scores)\n",
        "\n",
        "plt.legend(['Learning_rate = 0.02', 'Learning_rate = 0.05', 'Learning_rate = 0.1', 'Learning_rate = 0.3'])\n",
        "plt.xlabel('colsample_bytree')\n",
        "plt.ylabel('score')\n",
        "plt.title('Learning rate & colsample_bytree')\n",
        "plt.xticks(colsample_bytree)\n",
        "plt.show()"
      ],
      "metadata": {
        "colab": {
          "base_uri": "https://localhost:8080/",
          "height": 296
        },
        "id": "Zjnwi_SpNSv8",
        "outputId": "c1ca0306-fc6c-4321-da3a-5eacc5b82f16"
      },
      "execution_count": 20,
      "outputs": [
        {
          "output_type": "display_data",
          "data": {
            "text/plain": [
              "<Figure size 432x288 with 1 Axes>"
            ],
            "image/png": "[encoded data removed]"
          },
          "metadata": {
            "needs_background": "light"
          }
        }
      ]
    },
    {
      "cell_type": "markdown",
      "source": [
        "`n_estimator` and `max_depth`"
      ],
      "metadata": {
        "id": "IoKsjTMSNTJN"
      }
    },
    {
      "cell_type": "code",
      "source": [
        "params = clf.cv_results_[\"params\"]\n",
        "mean_test_score = clf.cv_results_['mean_test_score']\n",
        "\n",
        "nestimator_maxdepth = {100: {2:_, 3:_, 4:_}, 200: {2:_, 3:_, 4:_}, 300: {2:_, 3:_, 4:_}}\n",
        "other_params = {\"learning_rate\": 0.05, \"colsample_bytree\": 0.8}\n",
        "\n",
        "for index, params in enumerate(params):\n",
        "  if params[\"learning_rate\"] == other_params[\"learning_rate\"] and params[\"colsample_bytree\"] == other_params[\"colsample_bytree\"]:\n",
        "    n_estimators, max_depth = params[\"n_estimators\"], params[\"max_depth\"]\n",
        "    nestimator_maxdepth[n_estimators][max_depth] = mean_test_score[index]\n",
        "\n",
        "for n_estimator, max_depth_score in nestimator_maxdepth.items():\n",
        "  max_depth = list(nestimator_maxdepth[n_estimator].keys())\n",
        "  scores = list(nestimator_maxdepth[n_estimator].values())\n",
        "  plt.plot(max_depth, scores)\n",
        "\n",
        "plt.legend([\"n_estimator: 100\", \"n_estimator: 200\", \"n_estimator: 300\"])\n",
        "plt.xlabel('max_depth')\n",
        "plt.ylabel('score')\n",
        "plt.title('max_depth & n_estimator')\n",
        "plt.xticks(max_depth)\n",
        "plt.show()"
      ],
      "metadata": {
        "colab": {
          "base_uri": "https://localhost:8080/",
          "height": 296
        },
        "id": "z7nM721yNW7N",
        "outputId": "980c3ff4-a3fe-443f-9197-818621e664b5"
      },
      "execution_count": 21,
      "outputs": [
        {
          "output_type": "display_data",
          "data": {
            "text/plain": [
              "<Figure size 432x288 with 1 Axes>"
            ],
            "image/png": "[encoded data removed]"
          },
          "metadata": {
            "needs_background": "light"
          }
        }
      ]
    },
    {
      "cell_type": "markdown",
      "source": [
        "`colsample_bytree` and `n_estimator`"
      ],
      "metadata": {
        "id": "kS9QRBp7NgRo"
      }
    },
    {
      "cell_type": "code",
      "source": [
        "params = clf.cv_results_[\"params\"]\n",
        "mean_test_score = clf.cv_results_['mean_test_score']\n",
        "\n",
        "colsamplebytree_nestimator = {0.8: {100:_, 200:_, 300:_}, 1: {100:_, 200:_, 300:_}}\n",
        "other_params = {\"learning_rate\": 0.05, \"max_depth\": 4}\n",
        "\n",
        "for index, params in enumerate(params):\n",
        "  if params[\"learning_rate\"] == other_params[\"learning_rate\"] and params[\"max_depth\"] == other_params[\"max_depth\"]:\n",
        "    colsample_bytree, n_estimators = params[\"colsample_bytree\"], params[\"n_estimators\"]\n",
        "    colsamplebytree_nestimator[colsample_bytree][n_estimators] = mean_test_score[index]\n",
        "  \n",
        "for colsample_bytree, n_estimator_score in colsamplebytree_nestimator.items():\n",
        "  n_estimator = list(colsamplebytree_nestimator[colsample_bytree].keys())\n",
        "  scores = list(colsamplebytree_nestimator[colsample_bytree].values())\n",
        "  plt.plot(n_estimator, scores)\n",
        "\n",
        "plt.legend([\"colsample_bytree: 0.8\", \"colsample_bytree: 1\"])\n",
        "plt.xlabel('n_estimator')\n",
        "plt.ylabel('score')\n",
        "plt.title('colsample_bytree and n_estimator')\n",
        "plt.xticks(n_estimator)\n",
        "plt.show()"
      ],
      "metadata": {
        "colab": {
          "base_uri": "https://localhost:8080/",
          "height": 296
        },
        "id": "WGBxwJxzNid7",
        "outputId": "92a8892a-edbe-4e86-ce0a-e3508e73b097"
      },
      "execution_count": 22,
      "outputs": [
        {
          "output_type": "display_data",
          "data": {
            "text/plain": [
              "<Figure size 432x288 with 1 Axes>"
            ],
            "image/png": "[encoded data removed]"
          },
          "metadata": {
            "needs_background": "light"
          }
        }
      ]
    },
    {
      "cell_type": "markdown",
      "source": [
        "`colsample_bytree` and `max_depth`"
      ],
      "metadata": {
        "id": "pG62oWfcNY_z"
      }
    },
    {
      "cell_type": "code",
      "source": [
        "params = clf.cv_results_[\"params\"]\n",
        "mean_test_score = clf.cv_results_['mean_test_score']\n",
        "\n",
        "colsamplebytree_maxdepth = {0.8: {2:_, 3:_, 4:_}, 1: {2:_, 3:_, 4:_}}\n",
        "other_params = {\"learning_rate\": 0.05, \"n_estimators\": 200}\n",
        "\n",
        "for index, params in enumerate(params):\n",
        "  if params[\"learning_rate\"] == other_params[\"learning_rate\"] and params[\"n_estimators\"] == other_params[\"n_estimators\"]:\n",
        "    colsample_bytree, max_depth = params[\"colsample_bytree\"], params[\"max_depth\"]\n",
        "    colsamplebytree_maxdepth[colsample_bytree][max_depth] = mean_test_score[index]\n",
        "\n",
        "for colsample_bytree, max_depth_score in colsamplebytree_maxdepth.items():\n",
        "  max_depth = list(colsamplebytree_maxdepth[colsample_bytree].keys())\n",
        "  scores = list(colsamplebytree_maxdepth[colsample_bytree].values())\n",
        "  plt.plot(max_depth, scores)\n",
        "\n",
        "plt.legend([\"colsample_bytree: 0.8\", \"colsample_bytree: 1\"])\n",
        "plt.xlabel('max_depth')\n",
        "plt.ylabel('score')\n",
        "plt.title('colsample_bytree and max_depth')\n",
        "plt.xticks(max_depth)\n",
        "plt.show()"
      ],
      "metadata": {
        "colab": {
          "base_uri": "https://localhost:8080/",
          "height": 296
        },
        "id": "35YLxQrnNcpk",
        "outputId": "955f2c84-7b5e-4f74-c0ff-fe62455c56a5"
      },
      "execution_count": 23,
      "outputs": [
        {
          "output_type": "display_data",
          "data": {
            "text/plain": [
              "<Figure size 432x288 with 1 Axes>"
            ],
            "image/png": "[encoded data removed]"
          },
          "metadata": {
            "needs_background": "light"
          }
        }
      ]
    },
    {
      "cell_type": "code",
      "source": [
        ""
      ],
      "metadata": {
        "id": "IetPS7OXP5Uh"
      },
      "execution_count": null,
      "outputs": []
    }
  ],
  "metadata": {
    "colab": {
      "collapsed_sections": [
        "MCcWBt7KwZkG",
        "Jc70YwH9wdpf",
        "xGzYM3Fl73kn",
        "rBvC4D3bHc2B",
        "FVEuOiOHKR3n",
        "f5uGAQIhQIAH",
        "0Y2gXteKZZfq",
        "MmvjuG3bwn1R"
      ],
      "name": "XGBoost_Project.ipynb",
      "provenance": []
    },
    "kernelspec": {
      "display_name": "Python 3",
      "name": "python3"
    },
    "language_info": {
      "name": "python"
    },
    "accelerator": "GPU",
    "gpuClass": "standard"
  },
  "nbformat": 4,
  "nbformat_minor": 0
}